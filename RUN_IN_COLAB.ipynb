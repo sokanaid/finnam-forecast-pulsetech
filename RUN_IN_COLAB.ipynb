{
  "cells": [
    {
      "cell_type": "markdown",
      "metadata": {},
      "source": [
        "# 🚀 FORECAST - Запуск в Google Colab\n",
        "\n",
        "**Команда Pulsetech**\n",
        "\n",
        "Этот ноутбук запускает полное обучение и создание предсказаний.\n",
        "\n",
        "⏱️ **Время выполнения**: ~20-30 минут\n",
        "\n",
        "⚙️ **Runtime**: Используйте **CPU** (GPU не нужен!)\n",
        "\n",
        "---\n"
      ]
    },
    {
      "cell_type": "markdown",
      "metadata": {},
      "source": [
        "## 0. Настройка Runtime (ВАЖНО!)\n",
        "\n",
        "**Выберите CPU runtime:**\n",
        "1. В меню сверху: `Runtime` → `Change runtime type`\n",
        "2. В поле `Hardware accelerator` выберите **None** (это CPU)\n",
        "3. Нажмите `Save`\n",
        "\n",
        "⚠️ **GPU не нужен для этой задачи!** Мы используем gradient boosting деревья (LightGBM/sklearn), которые работают на CPU.\n",
        "\n",
        "---\n",
        "\n",
        "## 1. Клонирование репозитория\n",
        "\n",
        "**Важно**: Если репозиторий приватный, используйте GitHub token или сделайте его публичным временно.\n"
      ]
    },
    {
      "cell_type": "code",
      "execution_count": null,
      "metadata": {},
      "outputs": [],
      "source": [
        "# Клонируем репозиторий\n",
        "!git clone https://github.com/sokanaid/finnam-forecast-pulsetech.git\n",
        "%cd finnam-forecast-pulsetech\n",
        "\n",
        "print(\"✅ Репозиторий склонирован!\")\n",
        "print(\"\\n📦 Устанавливаем зависимости...\")\n",
        "\n",
        "# Устанавливаем зависимости\n",
        "!pip install -q -r requirements.txt\n",
        "\n",
        "print(\"✅ Зависимости установлены!\")\n"
      ]
    },
    {
      "cell_type": "markdown",
      "metadata": {},
      "source": [
        "## 2. Проверка данных\n",
        "\n",
        "Данные уже включены в репозиторий! Проверяем что все на месте:\n"
      ]
    },
    {
      "cell_type": "code",
      "execution_count": null,
      "metadata": {},
      "outputs": [],
      "source": [
        "import os\n",
        "\n",
        "# Проверяем наличие всех необходимых файлов\n",
        "data_files = {\n",
        "    'data/raw/train_candles.csv': 'Обучающие котировки',\n",
        "    'data/raw/train_news.csv': 'Обучающие новости',\n",
        "    'data/raw/public_test_candles.csv': 'Публичный тест котировки',\n",
        "    'data/raw/private_test_candles.csv': 'Приватный тест котировки',\n",
        "    'data/raw/test_news.csv': 'Тестовые новости'\n",
        "}\n",
        "\n",
        "all_present = True\n",
        "for filepath, description in data_files.items():\n",
        "    if os.path.exists(filepath):\n",
        "        size_mb = os.path.getsize(filepath) / 1024 / 1024\n",
        "        print(f\"✅ {description}: {size_mb:.2f} MB\")\n",
        "    else:\n",
        "        print(f\"❌ {description}: НЕ НАЙДЕН!\")\n",
        "        all_present = False\n",
        "\n",
        "if all_present:\n",
        "    print(\"\\n🎉 Все данные на месте! Можно продолжать.\")\n",
        "else:\n",
        "    print(\"\\n⚠️ ОШИБКА: Некоторые файлы отсутствуют!\")\n",
        "    print(\"Убедитесь, что репозиторий склонирован полностью.\")\n"
      ]
    },
    {
      "cell_type": "markdown",
      "metadata": {},
      "source": [
        "## 3. 🚀 Обучение модели\n",
        "\n",
        "Это займет ~20-30 минут\n"
      ]
    },
    {
      "cell_type": "code",
      "execution_count": null,
      "metadata": {},
      "outputs": [],
      "source": [
        "import time\n",
        "\n",
        "start_time = time.time()\n",
        "\n",
        "print(\"=\"*70)\n",
        "print(\"🎓 НАЧАЛО ОБУЧЕНИЯ\")\n",
        "print(\"=\"*70)\n",
        "\n",
        "!python train.py\n",
        "\n",
        "elapsed = time.time() - start_time\n",
        "print(f\"\\n⏱️ Время обучения: {elapsed/60:.2f} минут\")\n"
      ]
    },
    {
      "cell_type": "markdown",
      "metadata": {},
      "source": [
        "## 4. 🔮 Создание предсказаний\n"
      ]
    },
    {
      "cell_type": "code",
      "execution_count": null,
      "metadata": {},
      "outputs": [],
      "source": [
        "print(\"=\"*70)\n",
        "print(\"🔮 СОЗДАНИЕ ПРЕДСКАЗАНИЙ\")\n",
        "print(\"=\"*70)\n",
        "\n",
        "!python predict.py\n"
      ]
    },
    {
      "cell_type": "markdown",
      "metadata": {},
      "source": [
        "## 5. 📊 Проверка результатов\n"
      ]
    },
    {
      "cell_type": "code",
      "execution_count": null,
      "metadata": {},
      "outputs": [],
      "source": [
        "import pandas as pd\n",
        "import os\n",
        "\n",
        "if os.path.exists('submission.csv'):\n",
        "    submission = pd.read_csv('submission.csv')\n",
        "    print(\"✅ Submission создан!\")\n",
        "    print(f\"\\nРазмер: {len(submission)} строк\")\n",
        "    print(f\"Колонки: {list(submission.columns)}\")\n",
        "    print(f\"\\nПервые 10 строк:\")\n",
        "    print(submission.head(10))\n",
        "    \n",
        "    # Статистика вероятностей\n",
        "    prob_cols = [f'p{i}' for i in range(1, 21)]\n",
        "    print(f\"\\n📊 Статистика вероятностей:\")\n",
        "    print(f\"   Среднее: {submission[prob_cols].mean().mean():.4f}\")\n",
        "    print(f\"   Std: {submission[prob_cols].std().mean():.4f}\")\n",
        "    print(f\"   Min: {submission[prob_cols].min().min():.4f}\")\n",
        "    print(f\"   Max: {submission[prob_cols].max().max():.4f}\")\n",
        "else:\n",
        "    print(\"❌ submission.csv не создан!\")\n"
      ]
    },
    {
      "cell_type": "markdown",
      "metadata": {},
      "source": [
        "## 6. 📥 Скачивание результатов\n"
      ]
    },
    {
      "cell_type": "code",
      "execution_count": null,
      "metadata": {},
      "outputs": [],
      "source": [
        "from google.colab import files\n",
        "\n",
        "# Скачиваем submission\n",
        "if os.path.exists('submission.csv'):\n",
        "    files.download('submission.csv')\n",
        "    print(\"✅ submission.csv скачан!\")\n",
        "else:\n",
        "    print(\"❌ Файл не найден!\")\n",
        "\n",
        "print(\"\\n🎉 Готово! Теперь можете отправить submission.csv на лидерборд\")\n"
      ]
    },
    {
      "cell_type": "markdown",
      "metadata": {},
      "source": [
        "---\n",
        "\n",
        "## ✅ Готово!\n",
        "\n",
        "**Результаты:**\n",
        "- ✅ Модель обучена\n",
        "- ✅ Предсказания созданы\n",
        "- ✅ submission.csv готов для отправки\n",
        "\n",
        "**Следующие шаги:**\n",
        "1. Отправьте `submission.csv` на лидерборд\n",
        "2. Обновите метрики в презентации реальными значениями из обучения\n",
        "\n",
        "---\n",
        "\n",
        "**Команда Pulsetech** 🚀\n"
      ]
    },
    {
      "cell_type": "code",
      "execution_count": null,
      "metadata": {},
      "outputs": [],
      "source": [
        "# Дополнительная ячейка для экспериментов\n",
        "# Используйте эту ячейку если нужно что-то проверить или отладить\n",
        "\n",
        "# Например, посмотреть на feature importance:\n",
        "# import joblib\n",
        "# fe = joblib.load('models/feature_engineer.pkl')\n",
        "# print(fe.get_feature_names())\n"
      ]
    },
    {
      "cell_type": "markdown",
      "metadata": {},
      "source": [
        "---\n",
        "\n",
        "## ✅ Готово!\n",
        "\n",
        "**Результаты:**\n",
        "- ✅ Модель обучена\n",
        "- ✅ Предсказания созданы\n",
        "- ✅ submission.csv готов для отправки\n",
        "\n",
        "**Следующие шаги:**\n",
        "1. Отправьте `submission.csv` на лидерборд\n",
        "2. Обновите метрики в презентации реальными значениями из обучения\n",
        "\n",
        "---\n",
        "\n",
        "**Команда Pulsetech** 🚀\n"
      ]
    }
  ],
  "metadata": {
    "language_info": {
      "name": "python"
    }
  },
  "nbformat": 4,
  "nbformat_minor": 2
}
