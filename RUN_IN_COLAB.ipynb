{
  "cells": [
    {
      "cell_type": "markdown",
      "metadata": {
        "id": "cNBBursoWmsq"
      },
      "source": [
        "# 🚀 FORECAST - Запуск в Google Colab\n",
        "\n",
        "**Команда Pulsetech**\n",
        "\n",
        "Этот ноутбук запускает полное обучение и создание предсказаний.\n",
        "\n",
        "⏱️ **Время выполнения**: ~20-30 минут\n",
        "\n",
        "⚙️ **Runtime**: Используйте **CPU** (GPU не нужен!)\n",
        "\n",
        "---\n"
      ]
    },
    {
      "cell_type": "markdown",
      "metadata": {
        "id": "BAmQAVC_Wmss"
      },
      "source": [
        "## 0. Настройка Runtime (ВАЖНО!)\n",
        "\n",
        "**Выберите CPU runtime:**\n",
        "1. В меню сверху: `Runtime` → `Change runtime type`\n",
        "2. В поле `Hardware accelerator` выберите **None** (это CPU)\n",
        "3. Нажмите `Save`\n",
        "\n",
        "⚠️ **GPU не нужен для этой задачи!** Мы используем gradient boosting деревья (LightGBM/sklearn), которые работают на CPU.\n",
        "\n",
        "---\n",
        "\n",
        "## 1. Клонирование репозитория\n",
        "\n",
        "**Важно**: Если репозиторий приватный, используйте GitHub token или сделайте его публичным временно.\n"
      ]
    },
    {
      "cell_type": "code",
      "execution_count": 25,
      "metadata": {
        "id": "kuardORhWmss",
        "outputId": "92dfd03f-479f-44a0-81a0-c6bff3266ba1",
        "colab": {
          "base_uri": "https://localhost:8080/"
        }
      },
      "outputs": [
        {
          "output_type": "stream",
          "name": "stdout",
          "text": [
            "Cloning into 'finnam-forecast-pulsetech'...\n",
            "remote: Enumerating objects: 48, done.\u001b[K\n",
            "remote: Counting objects: 100% (48/48), done.\u001b[K\n",
            "remote: Compressing objects: 100% (37/37), done.\u001b[K\n",
            "remote: Total 48 (delta 14), reused 44 (delta 10), pack-reused 0 (from 0)\u001b[K\n",
            "Receiving objects: 100% (48/48), 21.89 MiB | 8.73 MiB/s, done.\n",
            "Resolving deltas: 100% (14/14), done.\n",
            "Updating files: 100% (23/23), done.\n",
            "/finnam-forecast-pulsetech/finnam-forecast-pulsetech/finnam-forecast-pulsetech\n",
            "✅ Репозиторий склонирован!\n",
            "\n",
            "📦 Устанавливаем зависимости...\n",
            "✅ Зависимости установлены!\n"
          ]
        }
      ],
      "source": [
        "# Клонируем репозиторий\n",
        "!git clone https://github.com/sokanaid/finnam-forecast-pulsetech.git\n",
        "%cd finnam-forecast-pulsetech\n",
        "\n",
        "print(\"✅ Репозиторий склонирован!\")\n",
        "print(\"\\n📦 Устанавливаем зависимости...\")\n",
        "\n",
        "# Устанавливаем зависимости\n",
        "!pip install -q -r requirements.txt\n",
        "\n",
        "print(\"✅ Зависимости установлены!\")\n"
      ]
    },
    {
      "cell_type": "markdown",
      "metadata": {
        "id": "-O6oD-vVWmst"
      },
      "source": [
        "## 2. Проверка данных\n",
        "\n",
        "Данные уже включены в репозиторий! Проверяем что все на месте:\n"
      ]
    },
    {
      "cell_type": "code",
      "execution_count": 26,
      "metadata": {
        "id": "31n1I-vUWmst",
        "outputId": "a84e72c9-1b5d-4c87-b24a-6ed063c10165",
        "colab": {
          "base_uri": "https://localhost:8080/"
        }
      },
      "outputs": [
        {
          "output_type": "stream",
          "name": "stdout",
          "text": [
            "✅ Обучающие котировки: 2.13 MB\n",
            "✅ Обучающие новости: 82.61 MB\n",
            "✅ Публичный тест котировки: 0.02 MB\n",
            "✅ Приватный тест котировки: 0.02 MB\n",
            "✅ Тестовые новости: 82.75 MB\n",
            "\n",
            "🎉 Все данные на месте! Можно продолжать.\n"
          ]
        }
      ],
      "source": [
        "import os\n",
        "\n",
        "# Проверяем наличие всех необходимых файлов\n",
        "data_files = {\n",
        "    'data/raw/train_candles.csv': 'Обучающие котировки',\n",
        "    'data/raw/train_news.csv': 'Обучающие новости',\n",
        "    'data/raw/public_test_candles.csv': 'Публичный тест котировки',\n",
        "    'data/raw/private_test_candles.csv': 'Приватный тест котировки',\n",
        "    'data/raw/test_news.csv': 'Тестовые новости'\n",
        "}\n",
        "\n",
        "all_present = True\n",
        "for filepath, description in data_files.items():\n",
        "    if os.path.exists(filepath):\n",
        "        size_mb = os.path.getsize(filepath) / 1024 / 1024\n",
        "        print(f\"✅ {description}: {size_mb:.2f} MB\")\n",
        "    else:\n",
        "        print(f\"❌ {description}: НЕ НАЙДЕН!\")\n",
        "        all_present = False\n",
        "\n",
        "if all_present:\n",
        "    print(\"\\n🎉 Все данные на месте! Можно продолжать.\")\n",
        "else:\n",
        "    print(\"\\n⚠️ ОШИБКА: Некоторые файлы отсутствуют!\")\n",
        "    print(\"Убедитесь, что репозиторий склонирован полностью.\")\n"
      ]
    },
    {
      "cell_type": "markdown",
      "metadata": {
        "id": "JyQvYUIGWmst"
      },
      "source": [
        "## 3. 🚀 Обучение модели\n",
        "\n",
        "Это займет ~20-30 минут\n"
      ]
    },
    {
      "cell_type": "code",
      "execution_count": 27,
      "metadata": {
        "id": "KPsONkDbWmsu",
        "outputId": "4662bb16-3792-459e-f118-240ed3849046",
        "colab": {
          "base_uri": "https://localhost:8080/"
        }
      },
      "outputs": [
        {
          "output_type": "stream",
          "name": "stdout",
          "text": [
            "======================================================================\n",
            "🎓 НАЧАЛО ОБУЧЕНИЯ\n",
            "======================================================================\n",
            "======================================================================\n",
            "🚀 ОБУЧЕНИЕ МОДЕЛИ FORECAST\n",
            "======================================================================\n",
            "\n",
            "📁 Входные данные:\n",
            "   Train candles: /finnam-forecast-pulsetech/finnam-forecast-pulsetech/finnam-forecast-pulsetech/data/raw/train_candles.csv\n",
            "   Train news: /finnam-forecast-pulsetech/finnam-forecast-pulsetech/finnam-forecast-pulsetech/data/raw/train_news.csv\n",
            "   Output dir: /finnam-forecast-pulsetech/finnam-forecast-pulsetech/finnam-forecast-pulsetech/models\n",
            "\n",
            "======================================================================\n",
            "ЭТАП 1: Загрузка данных\n",
            "======================================================================\n",
            "📊 Загрузка данных (режим: train)...\n",
            "   ✓ Train candles: 23118 строк, 19 тикеров\n",
            "   ✓ Train news: 24127 новостей\n",
            "   ✓ Test candles: 777 строк (public: 378, private: 399)\n",
            "   ✓ Test news: 24162 новостей\n",
            "🔍 Извлечение тикеров из новостей...\n",
            "   ✓ Найдено тикеров в 42899/48289 новостях\n",
            "   ✓ Total candles: 23895 строк\n",
            "   ✓ Total news: 48289 новостей\n",
            "\n",
            "📊 Статистика данных:\n",
            "   Тикеров: 19\n",
            "   Дат: 1217\n",
            "   Период: 2020-06-19 00:00:00 - 2025-04-15 00:00:00\n",
            "\n",
            "======================================================================\n",
            "ЭТАП 2: Подготовка таргетов\n",
            "======================================================================\n",
            "\n",
            "🎯 Подготовка таргетов для всех горизонтов...\n",
            "   ✓ Создано 20 пар таргетов (return + direction)\n",
            "   Строк для обучения: 23118\n",
            "\n",
            "======================================================================\n",
            "ЭТАП 3: Feature Engineering\n",
            "======================================================================\n",
            "\n",
            "🔧 Создание признаков из котировок...\n",
            "   ✓ Создано 28 признаков из котировок\n",
            "\n",
            "   ⏭️  Пропускаем детальную обработку новостей (занимает много времени)\n",
            "   Создаем базовые агрегации новостей...\n",
            "\n",
            "🔄 Заполнение пропущенных значений...\n",
            "   ✓ Пропущенные значения заполнены\n",
            "\n",
            "   ✅ Всего признаков: 31\n",
            "\n",
            "======================================================================\n",
            "ЭТАП 4: Обучение модели\n",
            "======================================================================\n",
            "\n",
            "🎓 Обучение моделей для всех горизонтов...\n",
            "   Количество горизонтов: 20\n",
            "   Количество признаков: 31\n",
            "   Размер обучающей выборки: 23118\n",
            "\n",
            "   📊 Горизонт 1 дней:\n",
            "      Train size: 18494, Val size: 4624\n",
            "      Positive rate: 0.493\n",
            "      Val AUC: 0.5868, Val Accuracy: 0.5582\n",
            "\n",
            "   📊 Горизонт 2 дней:\n",
            "      Train size: 18494, Val size: 4624\n",
            "      Positive rate: 0.501\n",
            "      Val AUC: 0.6240, Val Accuracy: 0.5854\n",
            "\n",
            "   📊 Горизонт 3 дней:\n",
            "      Train size: 18494, Val size: 4624\n",
            "      Positive rate: 0.507\n",
            "      Val AUC: 0.6462, Val Accuracy: 0.6006\n",
            "\n",
            "   📊 Горизонт 4 дней:\n",
            "      Train size: 18494, Val size: 4624\n",
            "      Positive rate: 0.512\n",
            "      Val AUC: 0.6860, Val Accuracy: 0.6317\n",
            "\n",
            "   📊 Горизонт 5 дней:\n",
            "      Train size: 18494, Val size: 4624\n",
            "      Positive rate: 0.518\n",
            "      Val AUC: 0.6973, Val Accuracy: 0.6419\n",
            "\n",
            "   📊 Горизонт 6 дней:\n",
            "      Train size: 18494, Val size: 4624\n",
            "      Positive rate: 0.520\n",
            "      Val AUC: 0.7038, Val Accuracy: 0.6473\n",
            "\n",
            "   📊 Горизонт 7 дней:\n",
            "      Train size: 18494, Val size: 4624\n",
            "      Positive rate: 0.522\n",
            "      Val AUC: 0.7139, Val Accuracy: 0.6546\n",
            "\n",
            "   📊 Горизонт 8 дней:\n",
            "      Train size: 18494, Val size: 4624\n",
            "      Positive rate: 0.521\n",
            "      Val AUC: 0.7318, Val Accuracy: 0.6683\n",
            "\n",
            "   📊 Горизонт 9 дней:\n",
            "      Train size: 18494, Val size: 4624\n",
            "      Positive rate: 0.522\n",
            "      Val AUC: 0.7522, Val Accuracy: 0.6825\n",
            "\n",
            "   📊 Горизонт 10 дней:\n",
            "      Train size: 18494, Val size: 4624\n",
            "      Positive rate: 0.523\n",
            "      Val AUC: 0.7751, Val Accuracy: 0.6968\n",
            "\n",
            "   📊 Горизонт 11 дней:\n",
            "      Train size: 18494, Val size: 4624\n",
            "      Positive rate: 0.520\n",
            "      Val AUC: 0.7890, Val Accuracy: 0.7104\n",
            "\n",
            "   📊 Горизонт 12 дней:\n",
            "      Train size: 18494, Val size: 4624\n",
            "      Positive rate: 0.520\n",
            "      Val AUC: 0.7846, Val Accuracy: 0.7163\n",
            "\n",
            "   📊 Горизонт 13 дней:\n",
            "      Train size: 18494, Val size: 4624\n",
            "      Positive rate: 0.520\n",
            "      Val AUC: 0.8086, Val Accuracy: 0.7277\n",
            "\n",
            "   📊 Горизонт 14 дней:\n",
            "      Train size: 18494, Val size: 4624\n",
            "      Positive rate: 0.520\n",
            "      Val AUC: 0.8106, Val Accuracy: 0.7284\n",
            "\n",
            "   📊 Горизонт 15 дней:\n",
            "      Train size: 18494, Val size: 4624\n",
            "      Positive rate: 0.521\n",
            "      Val AUC: 0.8153, Val Accuracy: 0.7353\n",
            "\n",
            "   📊 Горизонт 16 дней:\n",
            "      Train size: 18494, Val size: 4624\n",
            "      Positive rate: 0.519\n",
            "      Val AUC: 0.8288, Val Accuracy: 0.7468\n",
            "\n",
            "   📊 Горизонт 17 дней:\n",
            "      Train size: 18494, Val size: 4624\n",
            "      Positive rate: 0.519\n",
            "      Val AUC: 0.8256, Val Accuracy: 0.7455\n",
            "\n",
            "   📊 Горизонт 18 дней:\n",
            "      Train size: 18494, Val size: 4624\n",
            "      Positive rate: 0.521\n",
            "      Val AUC: 0.8436, Val Accuracy: 0.7675\n",
            "\n",
            "   📊 Горизонт 19 дней:\n",
            "      Train size: 18494, Val size: 4624\n",
            "      Positive rate: 0.521\n",
            "      Val AUC: 0.8368, Val Accuracy: 0.7634\n",
            "\n",
            "   📊 Горизонт 20 дней:\n",
            "      Train size: 18494, Val size: 4624\n",
            "      Positive rate: 0.522\n",
            "      Val AUC: 0.8478, Val Accuracy: 0.7753\n",
            "\n",
            "   ✅ Обучено 20 моделей\n",
            "\n",
            "======================================================================\n",
            "ЭТАП 5: Сохранение модели\n",
            "======================================================================\n",
            "\n",
            "💾 Сохранение моделей в /finnam-forecast-pulsetech/finnam-forecast-pulsetech/finnam-forecast-pulsetech/models/forecast_models.pkl...\n",
            "   ✓ Сохранено 20 моделей\n",
            "\n",
            "💾 Сохранение обработанных данных...\n",
            "   ✓ Данные сохранены\n",
            "\n",
            "======================================================================\n",
            "✅ ОБУЧЕНИЕ ЗАВЕРШЕНО!\n",
            "======================================================================\n",
            "⏱️  Время выполнения: 68.23 секунд (1.14 минут)\n",
            "💾 Модели сохранены в: /finnam-forecast-pulsetech/finnam-forecast-pulsetech/finnam-forecast-pulsetech/models\n",
            "\n",
            "💡 Следующий шаг: запустите predict.py для создания предсказаний\n",
            "\n",
            "⏱️ Время обучения: 1.22 минут\n"
          ]
        }
      ],
      "source": [
        "import time\n",
        "\n",
        "start_time = time.time()\n",
        "\n",
        "print(\"=\"*70)\n",
        "print(\"🎓 НАЧАЛО ОБУЧЕНИЯ\")\n",
        "print(\"=\"*70)\n",
        "\n",
        "!python train.py\n",
        "\n",
        "elapsed = time.time() - start_time\n",
        "print(f\"\\n⏱️ Время обучения: {elapsed/60:.2f} минут\")\n"
      ]
    },
    {
      "cell_type": "markdown",
      "metadata": {
        "id": "AK_GRCSCWmsu"
      },
      "source": [
        "## 4. 🔮 Создание предсказаний\n"
      ]
    },
    {
      "cell_type": "code",
      "execution_count": 28,
      "metadata": {
        "id": "2RLV0rwLWmsu",
        "outputId": "cd10a70b-68ff-4833-fddb-84eb9194c7e6",
        "colab": {
          "base_uri": "https://localhost:8080/"
        }
      },
      "outputs": [
        {
          "output_type": "stream",
          "name": "stdout",
          "text": [
            "======================================================================\n",
            "🔮 СОЗДАНИЕ ПРЕДСКАЗАНИЙ\n",
            "======================================================================\n",
            "======================================================================\n",
            "🔮 СОЗДАНИЕ ПРЕДСКАЗАНИЙ FORECAST\n",
            "======================================================================\n",
            "\n",
            "📁 Входные данные:\n",
            "   Public test: /finnam-forecast-pulsetech/finnam-forecast-pulsetech/finnam-forecast-pulsetech/data/raw/public_test_candles.csv\n",
            "   Private test: /finnam-forecast-pulsetech/finnam-forecast-pulsetech/finnam-forecast-pulsetech/data/raw/private_test_candles.csv\n",
            "   Test news: /finnam-forecast-pulsetech/finnam-forecast-pulsetech/finnam-forecast-pulsetech/data/raw/test_news.csv\n",
            "   Models dir: /finnam-forecast-pulsetech/finnam-forecast-pulsetech/finnam-forecast-pulsetech/models\n",
            "   Output: /finnam-forecast-pulsetech/finnam-forecast-pulsetech/finnam-forecast-pulsetech/submission.csv\n",
            "\n",
            "======================================================================\n",
            "ЭТАП 1: Загрузка модели\n",
            "======================================================================\n",
            "\n",
            "📂 Загрузка моделей из /finnam-forecast-pulsetech/finnam-forecast-pulsetech/finnam-forecast-pulsetech/models/forecast_models.pkl...\n",
            "   ✓ Загружено 20 моделей\n",
            "   ✓ Количество признаков: 31\n",
            "\n",
            "📂 Загрузка обработанных данных...\n",
            "   ✓ Данных загружено: 23895 строк\n",
            "   ✓ Признаков: 31\n",
            "\n",
            "======================================================================\n",
            "ЭТАП 2: Загрузка тестовых данных\n",
            "======================================================================\n",
            "📊 Загрузка данных (режим: test)...\n",
            "   ✓ Train candles: 23118 строк, 19 тикеров\n",
            "   ✓ Train news: 24127 новостей\n",
            "   ✓ Test candles: 777 строк (public: 378, private: 399)\n",
            "   ✓ Test news: 24162 новостей\n",
            "🔍 Извлечение тикеров из новостей...\n",
            "   ✓ Найдено тикеров в 42899/48289 новостях\n",
            "   ✓ Total candles: 23895 строк\n",
            "   ✓ Total news: 48289 новостей\n",
            "   Тестовых строк: 777\n",
            "   Тикеров: 19\n",
            "   Период: 2025-04-16 00:00:00 - 2025-06-01 00:00:00\n",
            "\n",
            "======================================================================\n",
            "ЭТАП 3: Подготовка тестовых данных\n",
            "======================================================================\n",
            "   Строк для предсказания: 777\n",
            "\n",
            "======================================================================\n",
            "ЭТАП 4: Создание предсказаний\n",
            "======================================================================\n",
            "\n",
            "🔮 Предсказание вероятностей роста...\n",
            "   ✓ Создано 777 предсказаний для 20 горизонтов\n",
            "\n",
            "   📊 Статистика вероятностей:\n",
            "      Средняя: 0.5789\n",
            "      Std: 0.1287\n",
            "\n",
            "======================================================================\n",
            "ЭТАП 5: Сохранение результатов\n",
            "======================================================================\n",
            "\n",
            "💾 Submission сохранен: /finnam-forecast-pulsetech/finnam-forecast-pulsetech/finnam-forecast-pulsetech/submission.csv\n",
            "   Строк: 777\n",
            "   Колонок: 21\n",
            "\n",
            "📋 Первые строки submission:\n",
            "ticker       p1       p2       p3       p4  ...      p16      p17      p18      p19      p20\n",
            "  AFLT 0.688869 0.386482 0.739634 0.631576  ... 0.212022 0.327346 0.158396 0.139816 0.251066\n",
            "  AFLT 0.580385 0.449441 0.672390 0.643369  ... 0.228907 0.269179 0.178742 0.142707 0.230649\n",
            "  AFLT 0.681172 0.510298 0.680584 0.608363  ... 0.372721 0.447624 0.282756 0.171851 0.157938\n",
            "  AFLT 0.590007 0.376286 0.578494 0.608363  ... 0.369006 0.403078 0.269150 0.304311 0.229811\n",
            "  AFLT 0.681713 0.533620 0.634477 0.630248  ... 0.405916 0.431100 0.255039 0.323726 0.212102\n",
            "  AFLT 0.701375 0.511921 0.681978 0.645652  ... 0.375407 0.389353 0.253112 0.332422 0.200898\n",
            "  AFLT 0.689304 0.512333 0.703038 0.603111  ... 0.377467 0.410111 0.278926 0.308859 0.183708\n",
            "  AFLT 0.590443 0.502853 0.643238 0.559247  ... 0.306565 0.361016 0.225198 0.338015 0.186880\n",
            "  AFLT 0.675704 0.613393 0.762324 0.544197  ... 0.365628 0.329757 0.331867 0.276242 0.177647\n",
            "  AFLT 0.675267 0.430756 0.691818 0.537556  ... 0.166104 0.106002 0.136654 0.083884 0.100296\n",
            "\n",
            "📊 Статистика вероятностей:\n",
            "   Среднее: 0.5789\n",
            "   Std: 0.1287\n",
            "   Min: 0.0546\n",
            "   Max: 0.9500\n",
            "\n",
            "📈 Строк по тикерам:\n",
            "   AFLT: 41\n",
            "   ALRS: 41\n",
            "   CHMF: 41\n",
            "   GAZP: 41\n",
            "   GMKN: 41\n",
            "   LKOH: 41\n",
            "   MAGN: 41\n",
            "   MGNT: 41\n",
            "   MOEX: 41\n",
            "   MTSS: 41\n",
            "   NVTK: 39\n",
            "   PHOR: 41\n",
            "   PLZL: 41\n",
            "   ROSN: 41\n",
            "   RUAL: 41\n",
            "   SBER: 41\n",
            "   SIBN: 41\n",
            "   T: 41\n",
            "   VTBR: 41\n",
            "\n",
            "======================================================================\n",
            "✅ ПРЕДСКАЗАНИЯ СОЗДАНЫ!\n",
            "======================================================================\n",
            "⏱️  Время выполнения: 36.54 секунд (0.61 минут)\n",
            "💾 Результат сохранен: /finnam-forecast-pulsetech/finnam-forecast-pulsetech/finnam-forecast-pulsetech/submission.csv\n"
          ]
        }
      ],
      "source": [
        "print(\"=\"*70)\n",
        "print(\"🔮 СОЗДАНИЕ ПРЕДСКАЗАНИЙ\")\n",
        "print(\"=\"*70)\n",
        "\n",
        "!python predict.py\n"
      ]
    },
    {
      "cell_type": "markdown",
      "metadata": {
        "id": "n90MEUu6Wmsu"
      },
      "source": [
        "## 5. 📊 Проверка результатов\n"
      ]
    },
    {
      "cell_type": "code",
      "execution_count": 29,
      "metadata": {
        "id": "qc72KNqlWmsv",
        "outputId": "7be40da8-c560-4f28-b913-f8cb1d769ca0",
        "colab": {
          "base_uri": "https://localhost:8080/"
        }
      },
      "outputs": [
        {
          "output_type": "stream",
          "name": "stdout",
          "text": [
            "✅ Submission создан!\n",
            "\n",
            "Размер: 777 строк\n",
            "Колонки: ['ticker', 'p1', 'p2', 'p3', 'p4', 'p5', 'p6', 'p7', 'p8', 'p9', 'p10', 'p11', 'p12', 'p13', 'p14', 'p15', 'p16', 'p17', 'p18', 'p19', 'p20']\n",
            "\n",
            "Первые 10 строк:\n",
            "  ticker        p1        p2        p3        p4        p5        p6  \\\n",
            "0   AFLT  0.688869  0.386482  0.739634  0.631576  0.559333  0.536281   \n",
            "1   AFLT  0.580385  0.449441  0.672390  0.643369  0.476439  0.501803   \n",
            "2   AFLT  0.681172  0.510298  0.680584  0.608363  0.492421  0.452996   \n",
            "3   AFLT  0.590007  0.376286  0.578494  0.608363  0.401511  0.264387   \n",
            "4   AFLT  0.681713  0.533620  0.634477  0.630248  0.474179  0.284613   \n",
            "5   AFLT  0.701375  0.511921  0.681978  0.645652  0.440930  0.361479   \n",
            "6   AFLT  0.689304  0.512333  0.703038  0.603111  0.468616  0.357102   \n",
            "7   AFLT  0.590443  0.502853  0.643238  0.559247  0.451440  0.409741   \n",
            "8   AFLT  0.675704  0.613393  0.762324  0.544197  0.386265  0.438158   \n",
            "9   AFLT  0.675267  0.430756  0.691818  0.537556  0.388597  0.240970   \n",
            "\n",
            "         p7        p8        p9  ...       p11       p12       p13       p14  \\\n",
            "0  0.671613  0.358861  0.361052  ...  0.420719  0.286982  0.153721  0.220885   \n",
            "1  0.748985  0.332909  0.307959  ...  0.366242  0.337381  0.170637  0.240341   \n",
            "2  0.645748  0.323943  0.353295  ...  0.308288  0.376803  0.186068  0.243903   \n",
            "3  0.413574  0.466222  0.376965  ...  0.373102  0.196059  0.162908  0.191554   \n",
            "4  0.525009  0.480685  0.402607  ...  0.240765  0.224083  0.149038  0.200430   \n",
            "5  0.550058  0.545520  0.402693  ...  0.215589  0.214308  0.155985  0.192175   \n",
            "6  0.612748  0.510534  0.464438  ...  0.255149  0.236442  0.157492  0.215434   \n",
            "7  0.443701  0.459644  0.333429  ...  0.243633  0.235707  0.150524  0.219099   \n",
            "8  0.531342  0.513483  0.431567  ...  0.222524  0.260606  0.147108  0.246237   \n",
            "9  0.457872  0.334500  0.205700  ...  0.225410  0.211211  0.170861  0.281696   \n",
            "\n",
            "        p15       p16       p17       p18       p19       p20  \n",
            "0  0.136848  0.212022  0.327346  0.158396  0.139816  0.251066  \n",
            "1  0.182239  0.228907  0.269179  0.178742  0.142707  0.230649  \n",
            "2  0.173312  0.372721  0.447624  0.282756  0.171851  0.157938  \n",
            "3  0.180409  0.369006  0.403078  0.269150  0.304311  0.229811  \n",
            "4  0.184328  0.405916  0.431100  0.255039  0.323726  0.212102  \n",
            "5  0.184828  0.375407  0.389353  0.253112  0.332422  0.200898  \n",
            "6  0.203645  0.377467  0.410111  0.278926  0.308859  0.183708  \n",
            "7  0.238516  0.306565  0.361016  0.225198  0.338015  0.186880  \n",
            "8  0.184332  0.365628  0.329757  0.331867  0.276242  0.177647  \n",
            "9  0.103176  0.166104  0.106002  0.136654  0.083884  0.100296  \n",
            "\n",
            "[10 rows x 21 columns]\n",
            "\n",
            "📊 Статистика вероятностей:\n",
            "   Среднее: 0.5789\n",
            "   Std: 0.1287\n",
            "   Min: 0.0546\n",
            "   Max: 0.9500\n"
          ]
        }
      ],
      "source": [
        "import pandas as pd\n",
        "import os\n",
        "\n",
        "if os.path.exists('submission.csv'):\n",
        "    submission = pd.read_csv('submission.csv')\n",
        "    print(\"✅ Submission создан!\")\n",
        "    print(f\"\\nРазмер: {len(submission)} строк\")\n",
        "    print(f\"Колонки: {list(submission.columns)}\")\n",
        "    print(f\"\\nПервые 10 строк:\")\n",
        "    print(submission.head(10))\n",
        "\n",
        "    # Статистика вероятностей\n",
        "    prob_cols = [f'p{i}' for i in range(1, 21)]\n",
        "    print(f\"\\n📊 Статистика вероятностей:\")\n",
        "    print(f\"   Среднее: {submission[prob_cols].mean().mean():.4f}\")\n",
        "    print(f\"   Std: {submission[prob_cols].std().mean():.4f}\")\n",
        "    print(f\"   Min: {submission[prob_cols].min().min():.4f}\")\n",
        "    print(f\"   Max: {submission[prob_cols].max().max():.4f}\")\n",
        "else:\n",
        "    print(\"❌ submission.csv не создан!\")\n"
      ]
    },
    {
      "cell_type": "markdown",
      "metadata": {
        "id": "V2Mxa2t8Wmsv"
      },
      "source": [
        "## 6. 📥 Скачивание результатов\n"
      ]
    },
    {
      "cell_type": "code",
      "execution_count": 30,
      "metadata": {
        "id": "jDBX-HqWWmsv",
        "outputId": "ca615beb-8a2a-4fab-9e85-d2ddec4a38e5",
        "colab": {
          "base_uri": "https://localhost:8080/",
          "height": 71
        }
      },
      "outputs": [
        {
          "output_type": "display_data",
          "data": {
            "text/plain": [
              "<IPython.core.display.Javascript object>"
            ],
            "application/javascript": [
              "\n",
              "    async function download(id, filename, size) {\n",
              "      if (!google.colab.kernel.accessAllowed) {\n",
              "        return;\n",
              "      }\n",
              "      const div = document.createElement('div');\n",
              "      const label = document.createElement('label');\n",
              "      label.textContent = `Downloading \"${filename}\": `;\n",
              "      div.appendChild(label);\n",
              "      const progress = document.createElement('progress');\n",
              "      progress.max = size;\n",
              "      div.appendChild(progress);\n",
              "      document.body.appendChild(div);\n",
              "\n",
              "      const buffers = [];\n",
              "      let downloaded = 0;\n",
              "\n",
              "      const channel = await google.colab.kernel.comms.open(id);\n",
              "      // Send a message to notify the kernel that we're ready.\n",
              "      channel.send({})\n",
              "\n",
              "      for await (const message of channel.messages) {\n",
              "        // Send a message to notify the kernel that we're ready.\n",
              "        channel.send({})\n",
              "        if (message.buffers) {\n",
              "          for (const buffer of message.buffers) {\n",
              "            buffers.push(buffer);\n",
              "            downloaded += buffer.byteLength;\n",
              "            progress.value = downloaded;\n",
              "          }\n",
              "        }\n",
              "      }\n",
              "      const blob = new Blob(buffers, {type: 'application/binary'});\n",
              "      const a = document.createElement('a');\n",
              "      a.href = window.URL.createObjectURL(blob);\n",
              "      a.download = filename;\n",
              "      div.appendChild(a);\n",
              "      a.click();\n",
              "      div.remove();\n",
              "    }\n",
              "  "
            ]
          },
          "metadata": {}
        },
        {
          "output_type": "display_data",
          "data": {
            "text/plain": [
              "<IPython.core.display.Javascript object>"
            ],
            "application/javascript": [
              "download(\"download_ce4cd4b7-bc73-404e-936f-ac64fadeae0d\", \"submission.csv\", 299417)"
            ]
          },
          "metadata": {}
        },
        {
          "output_type": "stream",
          "name": "stdout",
          "text": [
            "✅ submission.csv скачан!\n",
            "\n",
            "🎉 Готово! Теперь можете отправить submission.csv на лидерборд\n"
          ]
        }
      ],
      "source": [
        "from google.colab import files\n",
        "\n",
        "# Скачиваем submission\n",
        "if os.path.exists('submission.csv'):\n",
        "    files.download('submission.csv')\n",
        "    print(\"✅ submission.csv скачан!\")\n",
        "else:\n",
        "    print(\"❌ Файл не найден!\")\n",
        "\n",
        "print(\"\\n🎉 Готово! Теперь можете отправить submission.csv на лидерборд\")\n"
      ]
    },
    {
      "cell_type": "markdown",
      "metadata": {
        "id": "Y5o2BsB7Wmsv"
      },
      "source": [
        "---\n",
        "\n",
        "## ✅ Готово!\n",
        "\n",
        "**Результаты:**\n",
        "- ✅ Модель обучена\n",
        "- ✅ Предсказания созданы\n",
        "- ✅ submission.csv готов для отправки\n",
        "\n",
        "**Следующие шаги:**\n",
        "1. Отправьте `submission.csv` на лидерборд\n",
        "2. Обновите метрики в презентации реальными значениями из обучения\n",
        "\n",
        "---\n",
        "\n",
        "**Команда Pulsetech** 🚀\n"
      ]
    },
    {
      "cell_type": "code",
      "execution_count": 31,
      "metadata": {
        "id": "jisKM3M0Wmsv"
      },
      "outputs": [],
      "source": [
        "# Дополнительная ячейка для экспериментов\n",
        "# Используйте эту ячейку если нужно что-то проверить или отладить\n",
        "\n",
        "# Например, посмотреть на feature importance:\n",
        "# import joblib\n",
        "# fe = joblib.load('models/feature_engineer.pkl')\n",
        "# print(fe.get_feature_names())\n"
      ]
    },
    {
      "cell_type": "markdown",
      "metadata": {
        "id": "fhaXp4VXWmsv"
      },
      "source": [
        "---\n",
        "\n",
        "## ✅ Готово!\n",
        "\n",
        "**Результаты:**\n",
        "- ✅ Модель обучена\n",
        "- ✅ Предсказания созданы\n",
        "- ✅ submission.csv готов для отправки\n",
        "\n",
        "**Следующие шаги:**\n",
        "1. Отправьте `submission.csv` на лидерборд\n",
        "2. Обновите метрики в презентации реальными значениями из обучения\n",
        "\n",
        "---\n",
        "\n",
        "**Команда Pulsetech** 🚀\n"
      ]
    }
  ],
  "metadata": {
    "language_info": {
      "name": "python"
    },
    "colab": {
      "provenance": []
    },
    "kernelspec": {
      "name": "python3",
      "display_name": "Python 3"
    }
  },
  "nbformat": 4,
  "nbformat_minor": 0
}