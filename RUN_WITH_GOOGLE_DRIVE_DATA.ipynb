{
  "cells": [
    {
      "cell_type": "markdown",
      "metadata": {
        "id": "Tamz2eKXmCwE"
      },
      "source": [
        "# 🚀 FORECAST - Запуск с данными из Google Drive\n",
        "\n",
        "**Команда Pulsetech**\n",
        "\n",
        "Этот ноутбук загружает большой датасет с Google Drive и запускает полное обучение.\n",
        "\n",
        "⏱️ **Время выполнения**: зависит от размера данных\n",
        "\n",
        "⚙️ **Runtime**: Используйте **CPU** (GPU не нужен!)\n",
        "\n",
        "---\n",
        "\n",
        "## 📝 Структура данных:\n",
        "\n",
        "Ожидается файл `forecast_data.zip` на Google Drive со структурой:\n",
        "```\n",
        "forecast_data/\n",
        "  ├── candles.csv      → train_candles.csv\n",
        "  ├── news.csv         → train_news.csv\n",
        "  ├── candles_2.csv    → test_candles.csv (public+private)\n",
        "  └── news_2.csv       → test_news.csv\n",
        "```\n",
        "\n",
        "---\n"
      ]
    },
    {
      "cell_type": "markdown",
      "metadata": {
        "id": "b0l3lflMmCwF"
      },
      "source": [
        "## 0. Настройка Runtime (ВАЖНО!)\n",
        "\n",
        "**Выберите CPU runtime:**\n",
        "1. В меню сверху: `Runtime` → `Change runtime type`\n",
        "2. В поле `Hardware accelerator` выберите **None** (это CPU)\n",
        "3. Нажмите `Save`\n",
        "\n",
        "⚠️ **GPU не нужен для этой задачи!**\n"
      ]
    },
    {
      "cell_type": "markdown",
      "metadata": {
        "id": "1350DF8qmCwF"
      },
      "source": [
        "## 1. Подключение Google Drive\n"
      ]
    },
    {
      "cell_type": "code",
      "execution_count": 10,
      "metadata": {
        "colab": {
          "base_uri": "https://localhost:8080/"
        },
        "id": "x2pMGS3xmCwF",
        "outputId": "43f25e72-2591-408e-f9ec-5241bdee3598"
      },
      "outputs": [
        {
          "output_type": "stream",
          "name": "stdout",
          "text": [
            "Drive already mounted at /content/drive; to attempt to forcibly remount, call drive.mount(\"/content/drive\", force_remount=True).\n",
            "✅ Google Drive подключен!\n",
            "\n",
            "📂 Путь к вашим файлам: /content/drive/MyDrive/\n",
            "\n",
            "⚠️ Убедитесь что файл forecast_data.zip находится в корне MyDrive\n",
            "   или укажите правильный путь на следующем шаге\n"
          ]
        }
      ],
      "source": [
        "from google.colab import drive\n",
        "import os\n",
        "\n",
        "# Монтируем Google Drive\n",
        "drive.mount('/content/drive')\n",
        "\n",
        "print(\"✅ Google Drive подключен!\")\n",
        "print(\"\\n📂 Путь к вашим файлам: /content/drive/MyDrive/\")\n",
        "print(\"\\n⚠️ Убедитесь что файл forecast_data.zip находится в корне MyDrive\")\n",
        "print(\"   или укажите правильный путь на следующем шаге\")\n"
      ]
    },
    {
      "cell_type": "markdown",
      "metadata": {
        "id": "wsVbt7J4mCwG"
      },
      "source": [
        "## 2. Клонирование репозитория\n"
      ]
    },
    {
      "cell_type": "code",
      "execution_count": 11,
      "metadata": {
        "colab": {
          "base_uri": "https://localhost:8080/"
        },
        "id": "yF1aaQd4mCwG",
        "outputId": "854d1c15-d894-4f78-876f-dcc55b1ecbda"
      },
      "outputs": [
        {
          "output_type": "stream",
          "name": "stdout",
          "text": [
            "Cloning into 'finnam-forecast-pulsetech'...\n",
            "remote: Enumerating objects: 85, done.\u001b[K\n",
            "remote: Counting objects: 100% (85/85), done.\u001b[K\n",
            "remote: Compressing objects: 100% (68/68), done.\u001b[K\n",
            "remote: Total 85 (delta 34), reused 64 (delta 16), pack-reused 0 (from 0)\u001b[K\n",
            "Receiving objects: 100% (85/85), 25.47 MiB | 7.57 MiB/s, done.\n",
            "Resolving deltas: 100% (34/34), done.\n",
            "Updating files: 100% (28/28), done.\n",
            "/content/finnam-forecast-pulsetech/finnam-forecast-pulsetech\n",
            "✅ Репозиторий склонирован!\n",
            "\n",
            "📦 Устанавливаем зависимости...\n",
            "✅ Зависимости установлены!\n"
          ]
        }
      ],
      "source": [
        "# Клонируем репозиторий\n",
        "!git clone https://github.com/sokanaid/finnam-forecast-pulsetech.git\n",
        "%cd finnam-forecast-pulsetech\n",
        "\n",
        "print(\"✅ Репозиторий склонирован!\")\n",
        "print(\"\\n📦 Устанавливаем зависимости...\")\n",
        "\n",
        "# Устанавливаем зависимости\n",
        "!pip install -q -r requirements.txt\n",
        "\n",
        "print(\"✅ Зависимости установлены!\")\n"
      ]
    },
    {
      "cell_type": "markdown",
      "metadata": {
        "id": "THmOY5bSmCwG"
      },
      "source": [
        "## 3. Распаковка данных из Google Drive\n"
      ]
    },
    {
      "cell_type": "code",
      "execution_count": 12,
      "metadata": {
        "colab": {
          "base_uri": "https://localhost:8080/"
        },
        "id": "gGIQHU50mCwG",
        "outputId": "c0699a0d-716e-4d2a-f5e1-e58ad2c1d525"
      },
      "outputs": [
        {
          "output_type": "stream",
          "name": "stdout",
          "text": [
            "✅ Файл найден: /content/drive/MyDrive/forecast_data.zip\n",
            "📦 Размер: 25.0 MB\n",
            "\n",
            "📂 Распаковываем данные...\n",
            "✅ Данные распакованы!\n",
            "\n",
            "📁 Структура распакованных файлов:\n",
            "total 98M\n",
            "-rw-r--r-- 1 root root  87K Oct  4 20:08 candles_2.csv\n",
            "-rw-r--r-- 1 root root 1.2M Oct  4 20:08 candles.csv\n",
            "-rw-r--r-- 1 root root 8.4M Oct  4 20:08 news_2.csv\n",
            "-rw-r--r-- 1 root root  88M Oct  4 20:08 news.csv\n"
          ]
        }
      ],
      "source": [
        "import zipfile\n",
        "import shutil\n",
        "\n",
        "# Путь к вашему ZIP файлу на Google Drive\n",
        "# ИЗМЕНИТЕ ПУТЬ если файл находится в другой папке!\n",
        "zip_path = '/content/drive/MyDrive/forecast_data.zip'\n",
        "\n",
        "# Проверяем существование файла\n",
        "if not os.path.exists(zip_path):\n",
        "    print(f\"❌ Файл не найден: {zip_path}\")\n",
        "    print(\"\\n📂 Проверьте путь к файлу!\")\n",
        "    print(\"   Возможные варианты:\")\n",
        "    print(\"   - /content/drive/MyDrive/forecast_data.zip\")\n",
        "    print(\"   - /content/drive/MyDrive/Colab Notebooks/forecast_data.zip\")\n",
        "    print(\"\\n💡 Используйте команду ниже чтобы найти файл:\")\n",
        "    print(\"   !find /content/drive/MyDrive -name 'forecast_data.zip'\")\n",
        "else:\n",
        "    print(f\"✅ Файл найден: {zip_path}\")\n",
        "    file_size_mb = os.path.getsize(zip_path) / 1024 / 1024\n",
        "    print(f\"📦 Размер: {file_size_mb:.1f} MB\")\n",
        "\n",
        "    print(\"\\n📂 Распаковываем данные...\")\n",
        "\n",
        "    # Распаковываем в текущую директорию\n",
        "    with zipfile.ZipFile(zip_path, 'r') as zip_ref:\n",
        "        zip_ref.extractall('.')\n",
        "\n",
        "    print(\"✅ Данные распакованы!\")\n",
        "\n",
        "    # Показываем структуру\n",
        "    print(\"\\n📁 Структура распакованных файлов:\")\n",
        "    !ls -lh forecast_data/\n"
      ]
    },
    {
      "cell_type": "markdown",
      "metadata": {
        "id": "rdXiKF_wmCwH"
      },
      "source": [
        "## 4. Подготовка данных\n",
        "\n",
        "Переименовываем файлы под структуру, которую ожидает наш код\n"
      ]
    },
    {
      "cell_type": "code",
      "execution_count": 13,
      "metadata": {
        "colab": {
          "base_uri": "https://localhost:8080/"
        },
        "id": "1xqe6KDlmCwH",
        "outputId": "a97636da-907b-473d-a4fe-045e6aac7690"
      },
      "outputs": [
        {
          "output_type": "stream",
          "name": "stdout",
          "text": [
            "📋 Переименовываем и копируем файлы:\n",
            "\n",
            "✅ forecast_data/candles.csv\n",
            "   → data/raw/train_candles.csv\n",
            "   Размер: 1.2 MB, Колонки: ['open', 'close', 'high', 'low', 'volume', 'begin', 'ticker']\n",
            "\n",
            "✅ forecast_data/news.csv\n",
            "   → data/raw/train_news.csv\n",
            "   Размер: 87.9 MB, Колонки: ['Unnamed: 0', 'publish_date', 'title', 'publication']\n",
            "\n",
            "✅ forecast_data/candles_2.csv\n",
            "   → data/raw/public_test_candles.csv\n",
            "   Размер: 0.1 MB, Колонки: ['open', 'close', 'high', 'low', 'volume', 'begin', 'ticker']\n",
            "\n",
            "✅ forecast_data/news_2.csv\n",
            "   → data/raw/test_news.csv\n",
            "   Размер: 8.3 MB, Колонки: ['publish_date', 'title', 'publication']\n",
            "\n",
            "\n",
            "✅ Данные готовы!\n"
          ]
        }
      ],
      "source": [
        "import pandas as pd\n",
        "\n",
        "# Создаем структуру папок\n",
        "!mkdir -p data/raw\n",
        "\n",
        "# Копируем и переименовываем файлы\n",
        "file_mapping = {\n",
        "    'forecast_data/candles.csv': 'data/raw/train_candles.csv',\n",
        "    'forecast_data/news.csv': 'data/raw/train_news.csv',\n",
        "    'forecast_data/candles_2.csv': 'data/raw/public_test_candles.csv',\n",
        "    'forecast_data/news_2.csv': 'data/raw/test_news.csv',\n",
        "}\n",
        "\n",
        "print(\"📋 Переименовываем и копируем файлы:\\n\")\n",
        "\n",
        "for source, target in file_mapping.items():\n",
        "    if os.path.exists(source):\n",
        "        shutil.copy(source, target)\n",
        "        size_mb = os.path.getsize(target) / 1024 / 1024\n",
        "\n",
        "        # Показываем размер и первые строки\n",
        "        df = pd.read_csv(target, nrows=2)\n",
        "        print(f\"✅ {source}\")\n",
        "        print(f\"   → {target}\")\n",
        "        print(f\"   Размер: {size_mb:.1f} MB, Колонки: {list(df.columns)}\")\n",
        "        print()\n",
        "    else:\n",
        "        print(f\"⚠️ Файл не найден: {source}\")\n",
        "        print()\n",
        "\n",
        "# Для private_test создаем копию public (если нет отдельного файла)\n",
        "if not os.path.exists('data/raw/private_test_candles.csv'):\n",
        "    shutil.copy('data/raw/public_test_candles.csv', 'data/raw/private_test_candles.csv')\n",
        "    print(\"📝 Создана копия public_test → private_test\")\n",
        "\n",
        "print(\"\\n✅ Данные готовы!\")\n"
      ]
    },
    {
      "cell_type": "markdown",
      "metadata": {
        "id": "BsdV5FNXmCwH"
      },
      "source": [
        "## 5. 🚀 Обучение модели\n",
        "\n",
        "Это может занять от нескольких минут до часа в зависимости от размера данных\n"
      ]
    },
    {
      "cell_type": "code",
      "execution_count": 14,
      "metadata": {
        "colab": {
          "base_uri": "https://localhost:8080/"
        },
        "id": "Lh_JoyF3mCwH",
        "outputId": "89bc0cc9-40c0-4c6a-b434-a788bf420049"
      },
      "outputs": [
        {
          "output_type": "stream",
          "name": "stdout",
          "text": [
            "======================================================================\n",
            "🎓 НАЧАЛО ОБУЧЕНИЯ\n",
            "======================================================================\n",
            "======================================================================\n",
            "🚀 ОБУЧЕНИЕ МОДЕЛИ FORECAST\n",
            "======================================================================\n",
            "\n",
            "📁 Входные данные:\n",
            "   Train candles: /content/finnam-forecast-pulsetech/finnam-forecast-pulsetech/data/raw/train_candles.csv\n",
            "   Train news: /content/finnam-forecast-pulsetech/finnam-forecast-pulsetech/data/raw/train_news.csv\n",
            "   Output dir: /content/finnam-forecast-pulsetech/finnam-forecast-pulsetech/models\n",
            "\n",
            "======================================================================\n",
            "ЭТАП 1: Загрузка данных\n",
            "======================================================================\n",
            "📊 Загрузка данных (режим: train)...\n",
            "   ✓ Train candles: 24197 строк, 19 тикеров\n",
            "   ✓ Train news: 25425 новостей\n",
            "   ✓ Test candles: 2144 строк (public: 1745, private: 399)\n",
            "   ✓ Test news: 2030 новостей\n",
            "🔍 Извлечение тикеров из новостей...\n",
            "   ✓ Найдено тикеров в 24324/27455 новостях\n",
            "   ✓ Total candles: 26341 строк\n",
            "   ✓ Total news: 27455 новостей\n",
            "\n",
            "📊 Статистика данных:\n",
            "   Тикеров: 19\n",
            "   Дат: 1274\n",
            "   Период: 2020-06-19 00:00:00 - 2025-06-18 00:00:00\n",
            "\n",
            "======================================================================\n",
            "ЭТАП 2: Подготовка таргетов\n",
            "======================================================================\n",
            "\n",
            "🎯 Подготовка таргетов для всех горизонтов...\n",
            "   ✓ Создано 20 пар таргетов (return + direction)\n",
            "   Строк для обучения: 24898\n",
            "\n",
            "======================================================================\n",
            "ЭТАП 3: Feature Engineering\n",
            "======================================================================\n",
            "\n",
            "🔧 Создание признаков из котировок...\n",
            "   ✓ Создано 28 признаков из котировок\n",
            "\n",
            "   ⏭️  Пропускаем детальную обработку новостей (занимает много времени)\n",
            "   Создаем базовые агрегации новостей...\n",
            "\n",
            "🔄 Заполнение пропущенных значений...\n",
            "   ✓ Пропущенные значения заполнены\n",
            "\n",
            "   ✅ Всего признаков: 31\n",
            "\n",
            "======================================================================\n",
            "ЭТАП 4: Обучение модели\n",
            "======================================================================\n",
            "\n",
            "🎓 Обучение моделей для всех горизонтов...\n",
            "   Количество горизонтов: 20\n",
            "   Количество признаков: 31\n",
            "   Размер обучающей выборки: 24898\n",
            "\n",
            "   📊 Горизонт 1 дней:\n",
            "      Train size: 19918, Val size: 4980\n",
            "      Positive rate: 0.481\n",
            "      Val AUC: 0.5988, Val Accuracy: 0.5641\n",
            "\n",
            "   📊 Горизонт 2 дней:\n",
            "      Train size: 19918, Val size: 4980\n",
            "      Positive rate: 0.500\n",
            "      Val AUC: 0.6227, Val Accuracy: 0.5807\n",
            "\n",
            "   📊 Горизонт 3 дней:\n",
            "      Train size: 19918, Val size: 4980\n",
            "      Positive rate: 0.505\n",
            "      Val AUC: 0.6606, Val Accuracy: 0.6108\n",
            "\n",
            "   📊 Горизонт 4 дней:\n",
            "      Train size: 19918, Val size: 4980\n",
            "      Positive rate: 0.509\n",
            "      Val AUC: 0.6863, Val Accuracy: 0.6351\n",
            "\n",
            "   📊 Горизонт 5 дней:\n",
            "      Train size: 19918, Val size: 4980\n",
            "      Positive rate: 0.514\n",
            "      Val AUC: 0.6960, Val Accuracy: 0.6410\n",
            "\n",
            "   📊 Горизонт 6 дней:\n",
            "      Train size: 19918, Val size: 4980\n",
            "      Positive rate: 0.517\n",
            "      Val AUC: 0.7036, Val Accuracy: 0.6506\n",
            "\n",
            "   📊 Горизонт 7 дней:\n",
            "      Train size: 19918, Val size: 4980\n",
            "      Positive rate: 0.517\n",
            "      Val AUC: 0.7263, Val Accuracy: 0.6620\n",
            "\n",
            "   📊 Горизонт 8 дней:\n",
            "      Train size: 19918, Val size: 4980\n",
            "      Positive rate: 0.516\n",
            "      Val AUC: 0.7369, Val Accuracy: 0.6683\n",
            "\n",
            "   📊 Горизонт 9 дней:\n",
            "      Train size: 19918, Val size: 4980\n",
            "      Positive rate: 0.517\n",
            "      Val AUC: 0.7725, Val Accuracy: 0.7020\n",
            "\n",
            "   📊 Горизонт 10 дней:\n",
            "      Train size: 19918, Val size: 4980\n",
            "      Positive rate: 0.517\n",
            "      Val AUC: 0.7679, Val Accuracy: 0.6986\n",
            "\n",
            "   📊 Горизонт 11 дней:\n",
            "      Train size: 19918, Val size: 4980\n",
            "      Positive rate: 0.514\n",
            "      Val AUC: 0.7690, Val Accuracy: 0.6966\n",
            "\n",
            "   📊 Горизонт 12 дней:\n",
            "      Train size: 19918, Val size: 4980\n",
            "      Positive rate: 0.515\n",
            "      Val AUC: 0.7708, Val Accuracy: 0.6982\n",
            "\n",
            "   📊 Горизонт 13 дней:\n",
            "      Train size: 19918, Val size: 4980\n",
            "      Positive rate: 0.515\n",
            "      Val AUC: 0.8003, Val Accuracy: 0.7237\n",
            "\n",
            "   📊 Горизонт 14 дней:\n",
            "      Train size: 19918, Val size: 4980\n",
            "      Positive rate: 0.514\n",
            "      Val AUC: 0.8022, Val Accuracy: 0.7235\n",
            "\n",
            "   📊 Горизонт 15 дней:\n",
            "      Train size: 19918, Val size: 4980\n",
            "      Positive rate: 0.515\n",
            "      Val AUC: 0.8118, Val Accuracy: 0.7357\n",
            "\n",
            "   📊 Горизонт 16 дней:\n",
            "      Train size: 19918, Val size: 4980\n",
            "      Positive rate: 0.513\n",
            "      Val AUC: 0.8124, Val Accuracy: 0.7291\n",
            "\n",
            "   📊 Горизонт 17 дней:\n",
            "      Train size: 19918, Val size: 4980\n",
            "      Positive rate: 0.512\n",
            "      Val AUC: 0.8101, Val Accuracy: 0.7303\n",
            "\n",
            "   📊 Горизонт 18 дней:\n",
            "      Train size: 19918, Val size: 4980\n",
            "      Positive rate: 0.514\n",
            "      Val AUC: 0.8299, Val Accuracy: 0.7524\n",
            "\n",
            "   📊 Горизонт 19 дней:\n",
            "      Train size: 19918, Val size: 4980\n",
            "      Positive rate: 0.513\n",
            "      Val AUC: 0.8272, Val Accuracy: 0.7464\n",
            "\n",
            "   📊 Горизонт 20 дней:\n",
            "      Train size: 19918, Val size: 4980\n",
            "      Positive rate: 0.514\n",
            "      Val AUC: 0.8466, Val Accuracy: 0.7677\n",
            "\n",
            "   ✅ Обучено 20 моделей\n",
            "\n",
            "======================================================================\n",
            "ЭТАП 5: Сохранение модели\n",
            "======================================================================\n",
            "\n",
            "💾 Сохранение моделей в /content/finnam-forecast-pulsetech/finnam-forecast-pulsetech/models/forecast_models.pkl...\n",
            "   ✓ Сохранено 20 моделей\n",
            "\n",
            "💾 Сохранение обработанных данных...\n",
            "   ✓ Данные сохранены\n",
            "\n",
            "======================================================================\n",
            "✅ ОБУЧЕНИЕ ЗАВЕРШЕНО!\n",
            "======================================================================\n",
            "⏱️  Время выполнения: 62.87 секунд (1.05 минут)\n",
            "💾 Модели сохранены в: /content/finnam-forecast-pulsetech/finnam-forecast-pulsetech/models\n",
            "\n",
            "💡 Следующий шаг: запустите predict.py для создания предсказаний\n",
            "\n",
            "⏱️ Время обучения: 1.23 минут\n",
            "✅ Модели сохранены: models/forecast_models.pkl (12.8 MB)\n"
          ]
        }
      ],
      "source": [
        "import time\n",
        "\n",
        "start_time = time.time()\n",
        "\n",
        "print(\"=\"*70)\n",
        "print(\"🎓 НАЧАЛО ОБУЧЕНИЯ\")\n",
        "print(\"=\"*70)\n",
        "\n",
        "!python train.py\n",
        "\n",
        "elapsed = time.time() - start_time\n",
        "print(f\"\\n⏱️ Время обучения: {elapsed/60:.2f} минут\")\n",
        "\n",
        "# Проверяем что модели созданы\n",
        "if os.path.exists('models/forecast_models.pkl'):\n",
        "    size_mb = os.path.getsize('models/forecast_models.pkl') / 1024 / 1024\n",
        "    print(f\"✅ Модели сохранены: models/forecast_models.pkl ({size_mb:.1f} MB)\")\n",
        "else:\n",
        "    print(\"❌ Ошибка: модели не созданы!\")\n"
      ]
    },
    {
      "cell_type": "markdown",
      "metadata": {
        "id": "sR-V25j9mCwH"
      },
      "source": [
        "## 6. 🔮 Создание предсказаний\n"
      ]
    },
    {
      "cell_type": "code",
      "execution_count": 15,
      "metadata": {
        "colab": {
          "base_uri": "https://localhost:8080/"
        },
        "id": "rkZZSl_0mCwH",
        "outputId": "d5776a3e-6e4e-481e-fc05-ca9757114018"
      },
      "outputs": [
        {
          "output_type": "stream",
          "name": "stdout",
          "text": [
            "======================================================================\n",
            "🔮 СОЗДАНИЕ ПРЕДСКАЗАНИЙ\n",
            "======================================================================\n",
            "======================================================================\n",
            "🔮 СОЗДАНИЕ ПРЕДСКАЗАНИЙ FORECAST\n",
            "======================================================================\n",
            "\n",
            "📁 Входные данные:\n",
            "   Public test: /content/finnam-forecast-pulsetech/finnam-forecast-pulsetech/data/raw/public_test_candles.csv\n",
            "   Private test: /content/finnam-forecast-pulsetech/finnam-forecast-pulsetech/data/raw/private_test_candles.csv\n",
            "   Test news: /content/finnam-forecast-pulsetech/finnam-forecast-pulsetech/data/raw/test_news.csv\n",
            "   Models dir: /content/finnam-forecast-pulsetech/finnam-forecast-pulsetech/models\n",
            "   Output: /content/finnam-forecast-pulsetech/finnam-forecast-pulsetech/submission.csv\n",
            "\n",
            "======================================================================\n",
            "ЭТАП 1: Загрузка модели\n",
            "======================================================================\n",
            "\n",
            "📂 Загрузка моделей из /content/finnam-forecast-pulsetech/finnam-forecast-pulsetech/models/forecast_models.pkl...\n",
            "   ✓ Загружено 20 моделей\n",
            "   ✓ Количество признаков: 31\n",
            "\n",
            "📂 Загрузка обработанных данных...\n",
            "   ✓ Данных загружено: 26341 строк\n",
            "   ✓ Признаков: 31\n",
            "\n",
            "======================================================================\n",
            "ЭТАП 2: Загрузка тестовых данных\n",
            "======================================================================\n",
            "📊 Загрузка данных (режим: test)...\n",
            "   ✓ Train candles: 24197 строк, 19 тикеров\n",
            "   ✓ Train news: 25425 новостей\n",
            "   ✓ Test candles: 2144 строк (public: 1745, private: 399)\n",
            "   ✓ Test news: 2030 новостей\n",
            "🔍 Извлечение тикеров из новостей...\n",
            "   ✓ Найдено тикеров в 24324/27455 новостях\n",
            "   ✓ Total candles: 26341 строк\n",
            "   ✓ Total news: 27455 новостей\n",
            "   Тестовых строк: 2144\n",
            "   Тикеров: 19\n",
            "   Период: 2025-05-10 00:00:00 - 2025-09-08 00:00:00\n",
            "\n",
            "======================================================================\n",
            "ЭТАП 3: Подготовка тестовых данных\n",
            "======================================================================\n",
            "   Строк для предсказания: 2845\n",
            "\n",
            "======================================================================\n",
            "ЭТАП 4: Создание предсказаний\n",
            "======================================================================\n",
            "\n",
            "🔮 Предсказание вероятностей роста...\n",
            "   ✓ Создано 2845 предсказаний для 20 горизонтов\n",
            "\n",
            "   📊 Статистика вероятностей:\n",
            "      Средняя: 0.4828\n",
            "      Std: 0.1336\n",
            "\n",
            "======================================================================\n",
            "ЭТАП 5: Сохранение результатов\n",
            "======================================================================\n",
            "\n",
            "💾 Submission сохранен: /content/finnam-forecast-pulsetech/finnam-forecast-pulsetech/submission.csv\n",
            "   Строк: 19\n",
            "   Колонок: 21\n",
            "\n",
            "📋 Первые строки submission:\n",
            "ticker       p1       p2       p3       p4  ...      p16      p17      p18      p19      p20\n",
            "  AFLT 0.455009 0.533157 0.568157 0.679289  ... 0.533952 0.372684 0.314719 0.211952 0.319132\n",
            "  ALRS 0.521913 0.620256 0.573939 0.738706  ... 0.597933 0.433670 0.452608 0.468553 0.476923\n",
            "  CHMF 0.544859 0.545717 0.473631 0.620468  ... 0.717159 0.632502 0.583709 0.612325 0.631330\n",
            "  GAZP 0.427058 0.543003 0.550342 0.592925  ... 0.634185 0.654664 0.544455 0.525737 0.514787\n",
            "  GMKN 0.452076 0.440867 0.572950 0.743887  ... 0.478792 0.496710 0.545916 0.499149 0.451986\n",
            "  LKOH 0.527575 0.642890 0.680236 0.690296  ... 0.440266 0.565247 0.610224 0.464422 0.499258\n",
            "  MAGN 0.464954 0.514475 0.614481 0.635623  ... 0.877336 0.759272 0.759552 0.682923 0.716404\n",
            "  MGNT 0.611383 0.675683 0.615469 0.561420  ... 0.686901 0.650685 0.550783 0.585259 0.588650\n",
            "  MOEX 0.450943 0.559157 0.665611 0.692019  ... 0.709591 0.468680 0.347946 0.472032 0.563086\n",
            "  MTSS 0.534671 0.570559 0.599960 0.606194  ... 0.670635 0.586635 0.607319 0.643812 0.688975\n",
            "\n",
            "📊 Статистика вероятностей:\n",
            "   Среднее: 0.5656\n",
            "   Std: 0.1006\n",
            "   Min: 0.2120\n",
            "   Max: 0.8773\n",
            "\n",
            "📈 Строк по тикерам:\n",
            "   AFLT: 1\n",
            "   ALRS: 1\n",
            "   CHMF: 1\n",
            "   GAZP: 1\n",
            "   GMKN: 1\n",
            "   LKOH: 1\n",
            "   MAGN: 1\n",
            "   MGNT: 1\n",
            "   MOEX: 1\n",
            "   MTSS: 1\n",
            "   NVTK: 1\n",
            "   PHOR: 1\n",
            "   PLZL: 1\n",
            "   ROSN: 1\n",
            "   RUAL: 1\n",
            "   SBER: 1\n",
            "   SIBN: 1\n",
            "   T: 1\n",
            "   VTBR: 1\n",
            "\n",
            "======================================================================\n",
            "✅ ПРЕДСКАЗАНИЯ СОЗДАНЫ!\n",
            "======================================================================\n",
            "⏱️  Время выполнения: 21.49 секунд (0.36 минут)\n",
            "💾 Результат сохранен: /content/finnam-forecast-pulsetech/finnam-forecast-pulsetech/submission.csv\n",
            "\n",
            "✅ submission.csv создан!\n"
          ]
        }
      ],
      "source": [
        "print(\"=\"*70)\n",
        "print(\"🔮 СОЗДАНИЕ ПРЕДСКАЗАНИЙ\")\n",
        "print(\"=\"*70)\n",
        "\n",
        "!python predict.py\n",
        "\n",
        "if os.path.exists('submission.csv'):\n",
        "    print(\"\\n✅ submission.csv создан!\")\n",
        "else:\n",
        "    print(\"\\n❌ Ошибка: submission.csv не создан!\")\n"
      ]
    },
    {
      "cell_type": "markdown",
      "metadata": {
        "id": "bTu2Zv8jmCwH"
      },
      "source": [
        "## 7. 📊 Анализ результатов и метрик\n"
      ]
    },
    {
      "cell_type": "code",
      "execution_count": 16,
      "metadata": {
        "colab": {
          "base_uri": "https://localhost:8080/"
        },
        "id": "-k9WU3D9mCwH",
        "outputId": "29faf4c7-1d75-4b1f-fef4-3b1ead2a1704"
      },
      "outputs": [
        {
          "output_type": "stream",
          "name": "stdout",
          "text": [
            "======================================================================\n",
            "📊 ДЕТАЛЬНЫЙ АНАЛИЗ РЕЗУЛЬТАТОВ\n",
            "======================================================================\n",
            "\n",
            "✅ Размер: 19 строк\n",
            "✅ Уникальных тикеров: 19\n",
            "✅ Тикеры: ['AFLT', 'ALRS', 'CHMF', 'GAZP', 'GMKN', 'LKOH', 'MAGN', 'MGNT', 'MOEX', 'MTSS', 'NVTK', 'PHOR', 'PLZL', 'ROSN', 'RUAL', 'SBER', 'SIBN', 'T', 'VTBR']\n",
            "\n",
            "📈 Общая статистика вероятностей:\n",
            "   Среднее: 0.5656\n",
            "   Std: 0.1120\n",
            "   Min: 0.2120\n",
            "   Max: 0.8773\n",
            "   Медиана: 0.5652\n",
            "\n",
            "📊 Распределение вероятностей:\n",
            "   [0.0-0.2):   0.0% (0 значений)\n",
            "   [0.2-0.4):   5.5% (21 значений)\n",
            "   [0.4-0.6):  55.8% (212 значений)\n",
            "   [0.6-0.8):  37.1% (141 значений)\n",
            "   [0.8-1.0):   1.6% (6 значений)\n",
            "\n",
            "📉 Средние вероятности по горизонтам:\n",
            "   Горизонт  1: 0.4898\n",
            "   Горизонт  2: 0.5261\n",
            "   Горизонт  3: 0.5600\n",
            "   Горизонт  4: 0.6248\n",
            "   Горизонт  5: 0.6945\n",
            "   Горизонт  6: 0.6373\n",
            "   Горизонт  7: 0.5761\n",
            "   Горизонт  8: 0.5540\n",
            "   Горизонт  9: 0.5249\n",
            "   Горизонт 10: 0.5691\n",
            "   Горизонт 11: 0.5489\n",
            "   Горизонт 12: 0.5081\n",
            "   Горизонт 13: 0.5456\n",
            "   Горизонт 14: 0.5412\n",
            "   Горизонт 15: 0.5207\n",
            "   Горизонт 16: 0.6729\n",
            "   Горизонт 17: 0.5864\n",
            "   Горизонт 18: 0.5247\n",
            "   Горизонт 19: 0.5441\n",
            "   Горизонт 20: 0.5630\n",
            "\n",
            "📈 Тренд: НЕ убывающий (Δ=-0.0732)\n",
            "\n",
            "======================================================================\n"
          ]
        }
      ],
      "source": [
        "import numpy as np\n",
        "import matplotlib.pyplot as plt\n",
        "\n",
        "submission = pd.read_csv('submission.csv')\n",
        "prob_cols = [f'p{i}' for i in range(1, 21)]\n",
        "\n",
        "print('=' * 70)\n",
        "print('📊 ДЕТАЛЬНЫЙ АНАЛИЗ РЕЗУЛЬТАТОВ')\n",
        "print('=' * 70)\n",
        "\n",
        "print(f'\\n✅ Размер: {len(submission)} строк')\n",
        "print(f'✅ Уникальных тикеров: {submission[\"ticker\"].nunique()}')\n",
        "print(f'✅ Тикеры: {list(submission[\"ticker\"].unique())}')\n",
        "\n",
        "# Общая статистика\n",
        "all_probs = submission[prob_cols].values.flatten()\n",
        "print(f'\\n📈 Общая статистика вероятностей:')\n",
        "print(f'   Среднее: {all_probs.mean():.4f}')\n",
        "print(f'   Std: {all_probs.std():.4f}')\n",
        "print(f'   Min: {all_probs.min():.4f}')\n",
        "print(f'   Max: {all_probs.max():.4f}')\n",
        "print(f'   Медиана: {np.median(all_probs):.4f}')\n",
        "\n",
        "# Распределение\n",
        "print(f'\\n📊 Распределение вероятностей:')\n",
        "ranges = [(0, 0.2), (0.2, 0.4), (0.4, 0.6), (0.6, 0.8), (0.8, 1.0)]\n",
        "for low, high in ranges:\n",
        "    count = ((all_probs >= low) & (all_probs < high)).sum()\n",
        "    pct = count / len(all_probs) * 100\n",
        "    print(f'   [{low:.1f}-{high:.1f}): {pct:5.1f}% ({count:,} значений)')\n",
        "\n",
        "# Тренд по горизонтам\n",
        "print(f'\\n📉 Средние вероятности по горизонтам:')\n",
        "horizon_means = []\n",
        "for i in range(1, 21):\n",
        "    mean_val = submission[f'p{i}'].mean()\n",
        "    horizon_means.append(mean_val)\n",
        "    print(f'   Горизонт {i:2d}: {mean_val:.4f}')\n",
        "\n",
        "# Тренд\n",
        "trend_diff = horizon_means[0] - horizon_means[-1]\n",
        "if trend_diff > 0:\n",
        "    print(f'\\n📉 Тренд: УБЫВАЮЩИЙ (Δ={trend_diff:.4f})')\n",
        "    print('   ✅ Логично: уверенность снижается с горизонтом')\n",
        "else:\n",
        "    print(f'\\n📈 Тренд: НЕ убывающий (Δ={trend_diff:.4f})')\n",
        "\n",
        "print('\\n' + '=' * 70)\n"
      ]
    },
    {
      "cell_type": "markdown",
      "metadata": {
        "id": "ZeEy1LOumCwI"
      },
      "source": [
        "## 8. 📈 Визуализация\n"
      ]
    },
    {
      "cell_type": "code",
      "execution_count": 17,
      "metadata": {
        "colab": {
          "base_uri": "https://localhost:8080/",
          "height": 1000
        },
        "id": "Neh_w9zKmCwI",
        "outputId": "e8e04d0c-398e-48de-9b9b-f7a46c75a239"
      },
      "outputs": [
        {
          "output_type": "stream",
          "name": "stderr",
          "text": [
            "/tmp/ipython-input-2449182953.py:22: MatplotlibDeprecationWarning: The 'labels' parameter of boxplot() has been renamed 'tick_labels' since Matplotlib 3.9; support for the old name will be dropped in 3.11.\n",
            "  axes[1, 0].boxplot(boxplot_data, labels=['1д', '5д', '10д', '15д', '20д'])\n"
          ]
        },
        {
          "output_type": "display_data",
          "data": {
            "text/plain": [
              "<Figure size 1500x1000 with 4 Axes>"
            ],
            "image/png": "[encoded data removed]"
          },
          "metadata": {}
        },
        {
          "output_type": "stream",
          "name": "stdout",
          "text": [
            "✅ Визуализация готова!\n"
          ]
        }
      ],
      "source": [
        "fig, axes = plt.subplots(2, 2, figsize=(15, 10))\n",
        "\n",
        "# 1. Гистограмма распределения вероятностей\n",
        "axes[0, 0].hist(all_probs, bins=50, edgecolor='black', alpha=0.7)\n",
        "axes[0, 0].set_title('Распределение вероятностей', fontsize=14, fontweight='bold')\n",
        "axes[0, 0].set_xlabel('Вероятность')\n",
        "axes[0, 0].set_ylabel('Количество')\n",
        "axes[0, 0].axvline(all_probs.mean(), color='red', linestyle='--', label=f'Среднее: {all_probs.mean():.3f}')\n",
        "axes[0, 0].legend()\n",
        "axes[0, 0].grid(alpha=0.3)\n",
        "\n",
        "# 2. Тренд по горизонтам\n",
        "axes[0, 1].plot(range(1, 21), horizon_means, marker='o', linewidth=2)\n",
        "axes[0, 1].set_title('Средняя вероятность по горизонтам', fontsize=14, fontweight='bold')\n",
        "axes[0, 1].set_xlabel('Горизонт (дни)')\n",
        "axes[0, 1].set_ylabel('Средняя вероятность')\n",
        "axes[0, 1].grid(alpha=0.3)\n",
        "axes[0, 1].axhline(0.5, color='gray', linestyle='--', alpha=0.5)\n",
        "\n",
        "# 3. Boxplot по горизонтам (каждые 4 горизонта)\n",
        "boxplot_data = [submission[f'p{i}'].values for i in [1, 5, 10, 15, 20]]\n",
        "axes[1, 0].boxplot(boxplot_data, labels=['1д', '5д', '10д', '15д', '20д'])\n",
        "axes[1, 0].set_title('Распределение по ключевым горизонтам', fontsize=14, fontweight='bold')\n",
        "axes[1, 0].set_ylabel('Вероятность')\n",
        "axes[1, 0].grid(alpha=0.3)\n",
        "\n",
        "# 4. Средние вероятности по тикерам\n",
        "ticker_means = submission.groupby('ticker')[prob_cols].mean().mean(axis=1).sort_values()\n",
        "axes[1, 1].barh(ticker_means.index, ticker_means.values)\n",
        "axes[1, 1].set_title('Средняя вероятность по тикерам', fontsize=14, fontweight='bold')\n",
        "axes[1, 1].set_xlabel('Средняя вероятность')\n",
        "axes[1, 1].axvline(0.5, color='gray', linestyle='--', alpha=0.5)\n",
        "axes[1, 1].grid(alpha=0.3)\n",
        "\n",
        "plt.tight_layout()\n",
        "plt.show()\n",
        "\n",
        "print(\"✅ Визуализация готова!\")\n"
      ]
    },
    {
      "cell_type": "markdown",
      "metadata": {
        "id": "2TpO6OWfmCwI"
      },
      "source": [
        "## 9. 📥 Скачивание результатов\n"
      ]
    },
    {
      "cell_type": "code",
      "execution_count": 18,
      "metadata": {
        "colab": {
          "base_uri": "https://localhost:8080/",
          "height": 373
        },
        "id": "ZxS7sDY8mCwI",
        "outputId": "b2a4975c-a9fb-4347-d908-c7649f578f86"
      },
      "outputs": [
        {
          "output_type": "display_data",
          "data": {
            "text/plain": [
              "<IPython.core.display.Javascript object>"
            ],
            "application/javascript": [
              "\n",
              "    async function download(id, filename, size) {\n",
              "      if (!google.colab.kernel.accessAllowed) {\n",
              "        return;\n",
              "      }\n",
              "      const div = document.createElement('div');\n",
              "      const label = document.createElement('label');\n",
              "      label.textContent = `Downloading \"${filename}\": `;\n",
              "      div.appendChild(label);\n",
              "      const progress = document.createElement('progress');\n",
              "      progress.max = size;\n",
              "      div.appendChild(progress);\n",
              "      document.body.appendChild(div);\n",
              "\n",
              "      const buffers = [];\n",
              "      let downloaded = 0;\n",
              "\n",
              "      const channel = await google.colab.kernel.comms.open(id);\n",
              "      // Send a message to notify the kernel that we're ready.\n",
              "      channel.send({})\n",
              "\n",
              "      for await (const message of channel.messages) {\n",
              "        // Send a message to notify the kernel that we're ready.\n",
              "        channel.send({})\n",
              "        if (message.buffers) {\n",
              "          for (const buffer of message.buffers) {\n",
              "            buffers.push(buffer);\n",
              "            downloaded += buffer.byteLength;\n",
              "            progress.value = downloaded;\n",
              "          }\n",
              "        }\n",
              "      }\n",
              "      const blob = new Blob(buffers, {type: 'application/binary'});\n",
              "      const a = document.createElement('a');\n",
              "      a.href = window.URL.createObjectURL(blob);\n",
              "      a.download = filename;\n",
              "      div.appendChild(a);\n",
              "      a.click();\n",
              "      div.remove();\n",
              "    }\n",
              "  "
            ]
          },
          "metadata": {}
        },
        {
          "output_type": "display_data",
          "data": {
            "text/plain": [
              "<IPython.core.display.Javascript object>"
            ],
            "application/javascript": [
              "download(\"download_fc5565ed-f99d-463d-8012-14b73903854d\", \"submission.csv\", 7402)"
            ]
          },
          "metadata": {}
        },
        {
          "output_type": "stream",
          "name": "stdout",
          "text": [
            "✅ submission.csv скачан!\n"
          ]
        },
        {
          "output_type": "error",
          "ename": "KeyboardInterrupt",
          "evalue": "Interrupted by user",
          "traceback": [
            "\u001b[0;31m---------------------------------------------------------------------------\u001b[0m",
            "\u001b[0;31mKeyboardInterrupt\u001b[0m                         Traceback (most recent call last)",
            "\u001b[0;32m/tmp/ipython-input-2725141565.py\u001b[0m in \u001b[0;36m<cell line: 0>\u001b[0;34m()\u001b[0m\n\u001b[1;32m      9\u001b[0m \u001b[0;34m\u001b[0m\u001b[0m\n\u001b[1;32m     10\u001b[0m \u001b[0;31m# Опционально: сохранить в Google Drive\u001b[0m\u001b[0;34m\u001b[0m\u001b[0;34m\u001b[0m\u001b[0m\n\u001b[0;32m---> 11\u001b[0;31m \u001b[0msave_to_drive\u001b[0m \u001b[0;34m=\u001b[0m \u001b[0minput\u001b[0m\u001b[0;34m(\u001b[0m\u001b[0;34m\"\\n💾 Сохранить submission.csv в Google Drive? (y/n): \"\u001b[0m\u001b[0;34m)\u001b[0m\u001b[0;34m\u001b[0m\u001b[0;34m\u001b[0m\u001b[0m\n\u001b[0m\u001b[1;32m     12\u001b[0m \u001b[0;32mif\u001b[0m \u001b[0msave_to_drive\u001b[0m\u001b[0;34m.\u001b[0m\u001b[0mlower\u001b[0m\u001b[0;34m(\u001b[0m\u001b[0;34m)\u001b[0m \u001b[0;34m==\u001b[0m \u001b[0;34m'y'\u001b[0m\u001b[0;34m:\u001b[0m\u001b[0;34m\u001b[0m\u001b[0;34m\u001b[0m\u001b[0m\n\u001b[1;32m     13\u001b[0m     \u001b[0moutput_path\u001b[0m \u001b[0;34m=\u001b[0m \u001b[0;34m'/content/drive/MyDrive/submission_forecast.csv'\u001b[0m\u001b[0;34m\u001b[0m\u001b[0;34m\u001b[0m\u001b[0m\n",
            "\u001b[0;32m/usr/local/lib/python3.12/dist-packages/ipykernel/kernelbase.py\u001b[0m in \u001b[0;36mraw_input\u001b[0;34m(self, prompt)\u001b[0m\n\u001b[1;32m   1175\u001b[0m                 \u001b[0;34m\"raw_input was called, but this frontend does not support input requests.\"\u001b[0m\u001b[0;34m\u001b[0m\u001b[0;34m\u001b[0m\u001b[0m\n\u001b[1;32m   1176\u001b[0m             )\n\u001b[0;32m-> 1177\u001b[0;31m         return self._input_request(\n\u001b[0m\u001b[1;32m   1178\u001b[0m             \u001b[0mstr\u001b[0m\u001b[0;34m(\u001b[0m\u001b[0mprompt\u001b[0m\u001b[0;34m)\u001b[0m\u001b[0;34m,\u001b[0m\u001b[0;34m\u001b[0m\u001b[0;34m\u001b[0m\u001b[0m\n\u001b[1;32m   1179\u001b[0m             \u001b[0mself\u001b[0m\u001b[0;34m.\u001b[0m\u001b[0m_parent_ident\u001b[0m\u001b[0;34m[\u001b[0m\u001b[0;34m\"shell\"\u001b[0m\u001b[0;34m]\u001b[0m\u001b[0;34m,\u001b[0m\u001b[0;34m\u001b[0m\u001b[0;34m\u001b[0m\u001b[0m\n",
            "\u001b[0;32m/usr/local/lib/python3.12/dist-packages/ipykernel/kernelbase.py\u001b[0m in \u001b[0;36m_input_request\u001b[0;34m(self, prompt, ident, parent, password)\u001b[0m\n\u001b[1;32m   1217\u001b[0m             \u001b[0;32mexcept\u001b[0m \u001b[0mKeyboardInterrupt\u001b[0m\u001b[0;34m:\u001b[0m\u001b[0;34m\u001b[0m\u001b[0;34m\u001b[0m\u001b[0m\n\u001b[1;32m   1218\u001b[0m                 \u001b[0;31m# re-raise KeyboardInterrupt, to truncate traceback\u001b[0m\u001b[0;34m\u001b[0m\u001b[0;34m\u001b[0m\u001b[0m\n\u001b[0;32m-> 1219\u001b[0;31m                 \u001b[0;32mraise\u001b[0m \u001b[0mKeyboardInterrupt\u001b[0m\u001b[0;34m(\u001b[0m\u001b[0;34m\"Interrupted by user\"\u001b[0m\u001b[0;34m)\u001b[0m \u001b[0;32mfrom\u001b[0m \u001b[0;32mNone\u001b[0m\u001b[0;34m\u001b[0m\u001b[0;34m\u001b[0m\u001b[0m\n\u001b[0m\u001b[1;32m   1220\u001b[0m             \u001b[0;32mexcept\u001b[0m \u001b[0mException\u001b[0m\u001b[0;34m:\u001b[0m\u001b[0;34m\u001b[0m\u001b[0;34m\u001b[0m\u001b[0m\n\u001b[1;32m   1221\u001b[0m                 \u001b[0mself\u001b[0m\u001b[0;34m.\u001b[0m\u001b[0mlog\u001b[0m\u001b[0;34m.\u001b[0m\u001b[0mwarning\u001b[0m\u001b[0;34m(\u001b[0m\u001b[0;34m\"Invalid Message:\"\u001b[0m\u001b[0;34m,\u001b[0m \u001b[0mexc_info\u001b[0m\u001b[0;34m=\u001b[0m\u001b[0;32mTrue\u001b[0m\u001b[0;34m)\u001b[0m\u001b[0;34m\u001b[0m\u001b[0;34m\u001b[0m\u001b[0m\n",
            "\u001b[0;31mKeyboardInterrupt\u001b[0m: Interrupted by user"
          ]
        }
      ],
      "source": [
        "from google.colab import files\n",
        "\n",
        "# Скачиваем submission\n",
        "if os.path.exists('submission.csv'):\n",
        "    files.download('submission.csv')\n",
        "    print(\"✅ submission.csv скачан!\")\n",
        "else:\n",
        "    print(\"❌ Файл не найден!\")\n",
        "\n",
        "# Опционально: сохранить в Google Drive\n",
        "save_to_drive = input(\"\\n💾 Сохранить submission.csv в Google Drive? (y/n): \")\n",
        "if save_to_drive.lower() == 'y':\n",
        "    output_path = '/content/drive/MyDrive/submission_forecast.csv'\n",
        "    shutil.copy('submission.csv', output_path)\n",
        "    print(f\"✅ Сохранено в: {output_path}\")\n",
        "\n",
        "print(\"\\n🎉 Готово! Теперь можете отправить submission.csv на лидерборд\")\n"
      ]
    },
    {
      "cell_type": "markdown",
      "metadata": {
        "id": "mfzlFn3QmCwI"
      },
      "source": [
        "---\n",
        "\n",
        "## ✅ Готово!\n",
        "\n",
        "**Результаты:**\n",
        "- ✅ Модель обучена на ваших данных\n",
        "- ✅ Предсказания созданы\n",
        "- ✅ Метрики проанализированы\n",
        "- ✅ Визуализация построена\n",
        "- ✅ submission.csv готов для отправки\n",
        "\n",
        "**Следующие шаги:**\n",
        "1. Отправьте `submission.csv` на лидерборд\n",
        "2. Обновите метрики в презентации реальными значениями\n",
        "3. Сравните с предыдущими результатами\n",
        "\n",
        "---\n",
        "\n",
        "**Команда Pulsetech** 🚀\n"
      ]
    }
  ],
  "metadata": {
    "language_info": {
      "name": "python"
    },
    "colab": {
      "provenance": []
    },
    "kernelspec": {
      "name": "python3",
      "display_name": "Python 3"
    }
  },
  "nbformat": 4,
  "nbformat_minor": 0
}