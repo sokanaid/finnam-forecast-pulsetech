{
  "cells": [
    {
      "cell_type": "markdown",
      "metadata": {},
      "source": [
        "# 🚀 FORECAST - Запуск с данными из Google Drive\n",
        "\n",
        "**Команда Pulsetech**\n",
        "\n",
        "Этот ноутбук загружает большой датасет с Google Drive и запускает полное обучение.\n",
        "\n",
        "⏱️ **Время выполнения**: зависит от размера данных\n",
        "\n",
        "⚙️ **Runtime**: Используйте **CPU** (GPU не нужен!)\n",
        "\n",
        "---\n",
        "\n",
        "## 📝 Структура данных:\n",
        "\n",
        "Ожидается файл `forecast_data.zip` на Google Drive со структурой:\n",
        "```\n",
        "forecast_data/\n",
        "  ├── candles.csv      → train_candles.csv\n",
        "  ├── news.csv         → train_news.csv\n",
        "  ├── candles_2.csv    → test_candles.csv (public+private)\n",
        "  └── news_2.csv       → test_news.csv\n",
        "```\n",
        "\n",
        "---\n"
      ]
    },
    {
      "cell_type": "markdown",
      "metadata": {},
      "source": [
        "## 0. Настройка Runtime (ВАЖНО!)\n",
        "\n",
        "**Выберите CPU runtime:**\n",
        "1. В меню сверху: `Runtime` → `Change runtime type`\n",
        "2. В поле `Hardware accelerator` выберите **None** (это CPU)\n",
        "3. Нажмите `Save`\n",
        "\n",
        "⚠️ **GPU не нужен для этой задачи!**\n"
      ]
    },
    {
      "cell_type": "markdown",
      "metadata": {},
      "source": [
        "## 1. Подключение Google Drive\n"
      ]
    },
    {
      "cell_type": "code",
      "execution_count": null,
      "metadata": {},
      "outputs": [],
      "source": [
        "from google.colab import drive\n",
        "import os\n",
        "\n",
        "# Монтируем Google Drive\n",
        "drive.mount('/content/drive')\n",
        "\n",
        "print(\"✅ Google Drive подключен!\")\n",
        "print(\"\\n📂 Путь к вашим файлам: /content/drive/MyDrive/\")\n",
        "print(\"\\n⚠️ Убедитесь что файл forecast_data.zip находится в корне MyDrive\")\n",
        "print(\"   или укажите правильный путь на следующем шаге\")\n"
      ]
    },
    {
      "cell_type": "markdown",
      "metadata": {},
      "source": [
        "## 2. Клонирование репозитория\n"
      ]
    },
    {
      "cell_type": "code",
      "execution_count": null,
      "metadata": {},
      "outputs": [],
      "source": [
        "# Клонируем репозиторий\n",
        "!git clone https://github.com/sokanaid/finnam-forecast-pulsetech.git\n",
        "%cd finnam-forecast-pulsetech\n",
        "\n",
        "print(\"✅ Репозиторий склонирован!\")\n",
        "print(\"\\n📦 Устанавливаем зависимости...\")\n",
        "\n",
        "# Устанавливаем зависимости\n",
        "!pip install -q -r requirements.txt\n",
        "\n",
        "print(\"✅ Зависимости установлены!\")\n"
      ]
    },
    {
      "cell_type": "markdown",
      "metadata": {},
      "source": [
        "## 3. Распаковка данных из Google Drive\n"
      ]
    },
    {
      "cell_type": "code",
      "execution_count": null,
      "metadata": {},
      "outputs": [],
      "source": [
        "import zipfile\n",
        "import shutil\n",
        "\n",
        "# Путь к вашему ZIP файлу на Google Drive\n",
        "# ИЗМЕНИТЕ ПУТЬ если файл находится в другой папке!\n",
        "zip_path = '/content/drive/MyDrive/forecast_data.zip'\n",
        "\n",
        "# Проверяем существование файла\n",
        "if not os.path.exists(zip_path):\n",
        "    print(f\"❌ Файл не найден: {zip_path}\")\n",
        "    print(\"\\n📂 Проверьте путь к файлу!\")\n",
        "    print(\"   Возможные варианты:\")\n",
        "    print(\"   - /content/drive/MyDrive/forecast_data.zip\")\n",
        "    print(\"   - /content/drive/MyDrive/Colab Notebooks/forecast_data.zip\")\n",
        "    print(\"\\n💡 Используйте команду ниже чтобы найти файл:\")\n",
        "    print(\"   !find /content/drive/MyDrive -name 'forecast_data.zip'\")\n",
        "else:\n",
        "    print(f\"✅ Файл найден: {zip_path}\")\n",
        "    file_size_mb = os.path.getsize(zip_path) / 1024 / 1024\n",
        "    print(f\"📦 Размер: {file_size_mb:.1f} MB\")\n",
        "    \n",
        "    print(\"\\n📂 Распаковываем данные...\")\n",
        "    \n",
        "    # Распаковываем в текущую директорию\n",
        "    with zipfile.ZipFile(zip_path, 'r') as zip_ref:\n",
        "        zip_ref.extractall('.')\n",
        "    \n",
        "    print(\"✅ Данные распакованы!\")\n",
        "    \n",
        "    # Показываем структуру\n",
        "    print(\"\\n📁 Структура распакованных файлов:\")\n",
        "    !ls -lh forecast_data/\n"
      ]
    },
    {
      "cell_type": "markdown",
      "metadata": {},
      "source": [
        "## 4. Подготовка данных\n",
        "\n",
        "Переименовываем файлы под структуру, которую ожидает наш код\n"
      ]
    },
    {
      "cell_type": "code",
      "execution_count": null,
      "metadata": {},
      "outputs": [],
      "source": [
        "import pandas as pd\n",
        "\n",
        "# Создаем структуру папок\n",
        "!mkdir -p data/raw\n",
        "\n",
        "# Копируем и переименовываем файлы\n",
        "file_mapping = {\n",
        "    'forecast_data/candles.csv': 'data/raw/train_candles.csv',\n",
        "    'forecast_data/news.csv': 'data/raw/train_news.csv',\n",
        "    'forecast_data/candles_2.csv': 'data/raw/public_test_candles.csv',\n",
        "    'forecast_data/news_2.csv': 'data/raw/test_news.csv',\n",
        "}\n",
        "\n",
        "print(\"📋 Переименовываем и копируем файлы:\\n\")\n",
        "\n",
        "for source, target in file_mapping.items():\n",
        "    if os.path.exists(source):\n",
        "        shutil.copy(source, target)\n",
        "        size_mb = os.path.getsize(target) / 1024 / 1024\n",
        "        \n",
        "        # Показываем размер и первые строки\n",
        "        df = pd.read_csv(target, nrows=2)\n",
        "        print(f\"✅ {source}\")\n",
        "        print(f\"   → {target}\")\n",
        "        print(f\"   Размер: {size_mb:.1f} MB, Колонки: {list(df.columns)}\")\n",
        "        print()\n",
        "    else:\n",
        "        print(f\"⚠️ Файл не найден: {source}\")\n",
        "        print()\n",
        "\n",
        "# Для private_test создаем копию public (если нет отдельного файла)\n",
        "if not os.path.exists('data/raw/private_test_candles.csv'):\n",
        "    shutil.copy('data/raw/public_test_candles.csv', 'data/raw/private_test_candles.csv')\n",
        "    print(\"📝 Создана копия public_test → private_test\")\n",
        "\n",
        "print(\"\\n✅ Данные готовы!\")\n"
      ]
    },
    {
      "cell_type": "markdown",
      "metadata": {},
      "source": [
        "## 5. 🚀 Обучение модели\n",
        "\n",
        "Это может занять от нескольких минут до часа в зависимости от размера данных\n"
      ]
    },
    {
      "cell_type": "code",
      "execution_count": null,
      "metadata": {},
      "outputs": [],
      "source": [
        "import time\n",
        "\n",
        "start_time = time.time()\n",
        "\n",
        "print(\"=\"*70)\n",
        "print(\"🎓 НАЧАЛО ОБУЧЕНИЯ\")\n",
        "print(\"=\"*70)\n",
        "\n",
        "!python train.py\n",
        "\n",
        "elapsed = time.time() - start_time\n",
        "print(f\"\\n⏱️ Время обучения: {elapsed/60:.2f} минут\")\n",
        "\n",
        "# Проверяем что модели созданы\n",
        "if os.path.exists('models/forecast_models.pkl'):\n",
        "    size_mb = os.path.getsize('models/forecast_models.pkl') / 1024 / 1024\n",
        "    print(f\"✅ Модели сохранены: models/forecast_models.pkl ({size_mb:.1f} MB)\")\n",
        "else:\n",
        "    print(\"❌ Ошибка: модели не созданы!\")\n"
      ]
    },
    {
      "cell_type": "markdown",
      "metadata": {},
      "source": [
        "## 6. 🔮 Создание предсказаний\n"
      ]
    },
    {
      "cell_type": "code",
      "execution_count": null,
      "metadata": {},
      "outputs": [],
      "source": [
        "print(\"=\"*70)\n",
        "print(\"🔮 СОЗДАНИЕ ПРЕДСКАЗАНИЙ\")\n",
        "print(\"=\"*70)\n",
        "\n",
        "!python predict.py\n",
        "\n",
        "if os.path.exists('submission.csv'):\n",
        "    print(\"\\n✅ submission.csv создан!\")\n",
        "else:\n",
        "    print(\"\\n❌ Ошибка: submission.csv не создан!\")\n"
      ]
    },
    {
      "cell_type": "markdown",
      "metadata": {},
      "source": [
        "## 7. 📊 Анализ результатов и метрик\n"
      ]
    },
    {
      "cell_type": "code",
      "execution_count": null,
      "metadata": {},
      "outputs": [],
      "source": [
        "import numpy as np\n",
        "import matplotlib.pyplot as plt\n",
        "\n",
        "submission = pd.read_csv('submission.csv')\n",
        "prob_cols = [f'p{i}' for i in range(1, 21)]\n",
        "\n",
        "print('=' * 70)\n",
        "print('📊 ДЕТАЛЬНЫЙ АНАЛИЗ РЕЗУЛЬТАТОВ')\n",
        "print('=' * 70)\n",
        "\n",
        "print(f'\\n✅ Размер: {len(submission)} строк')\n",
        "print(f'✅ Уникальных тикеров: {submission[\"ticker\"].nunique()}')\n",
        "print(f'✅ Тикеры: {list(submission[\"ticker\"].unique())}')\n",
        "\n",
        "# Общая статистика\n",
        "all_probs = submission[prob_cols].values.flatten()\n",
        "print(f'\\n📈 Общая статистика вероятностей:')\n",
        "print(f'   Среднее: {all_probs.mean():.4f}')\n",
        "print(f'   Std: {all_probs.std():.4f}')\n",
        "print(f'   Min: {all_probs.min():.4f}')\n",
        "print(f'   Max: {all_probs.max():.4f}')\n",
        "print(f'   Медиана: {np.median(all_probs):.4f}')\n",
        "\n",
        "# Распределение\n",
        "print(f'\\n📊 Распределение вероятностей:')\n",
        "ranges = [(0, 0.2), (0.2, 0.4), (0.4, 0.6), (0.6, 0.8), (0.8, 1.0)]\n",
        "for low, high in ranges:\n",
        "    count = ((all_probs >= low) & (all_probs < high)).sum()\n",
        "    pct = count / len(all_probs) * 100\n",
        "    print(f'   [{low:.1f}-{high:.1f}): {pct:5.1f}% ({count:,} значений)')\n",
        "\n",
        "# Тренд по горизонтам\n",
        "print(f'\\n📉 Средние вероятности по горизонтам:')\n",
        "horizon_means = []\n",
        "for i in range(1, 21):\n",
        "    mean_val = submission[f'p{i}'].mean()\n",
        "    horizon_means.append(mean_val)\n",
        "    print(f'   Горизонт {i:2d}: {mean_val:.4f}')\n",
        "\n",
        "# Тренд\n",
        "trend_diff = horizon_means[0] - horizon_means[-1]\n",
        "if trend_diff > 0:\n",
        "    print(f'\\n📉 Тренд: УБЫВАЮЩИЙ (Δ={trend_diff:.4f})')\n",
        "    print('   ✅ Логично: уверенность снижается с горизонтом')\n",
        "else:\n",
        "    print(f'\\n📈 Тренд: НЕ убывающий (Δ={trend_diff:.4f})')\n",
        "\n",
        "print('\\n' + '=' * 70)\n"
      ]
    },
    {
      "cell_type": "markdown",
      "metadata": {},
      "source": [
        "## 8. 📈 Визуализация\n"
      ]
    },
    {
      "cell_type": "code",
      "execution_count": null,
      "metadata": {},
      "outputs": [],
      "source": [
        "fig, axes = plt.subplots(2, 2, figsize=(15, 10))\n",
        "\n",
        "# 1. Гистограмма распределения вероятностей\n",
        "axes[0, 0].hist(all_probs, bins=50, edgecolor='black', alpha=0.7)\n",
        "axes[0, 0].set_title('Распределение вероятностей', fontsize=14, fontweight='bold')\n",
        "axes[0, 0].set_xlabel('Вероятность')\n",
        "axes[0, 0].set_ylabel('Количество')\n",
        "axes[0, 0].axvline(all_probs.mean(), color='red', linestyle='--', label=f'Среднее: {all_probs.mean():.3f}')\n",
        "axes[0, 0].legend()\n",
        "axes[0, 0].grid(alpha=0.3)\n",
        "\n",
        "# 2. Тренд по горизонтам\n",
        "axes[0, 1].plot(range(1, 21), horizon_means, marker='o', linewidth=2)\n",
        "axes[0, 1].set_title('Средняя вероятность по горизонтам', fontsize=14, fontweight='bold')\n",
        "axes[0, 1].set_xlabel('Горизонт (дни)')\n",
        "axes[0, 1].set_ylabel('Средняя вероятность')\n",
        "axes[0, 1].grid(alpha=0.3)\n",
        "axes[0, 1].axhline(0.5, color='gray', linestyle='--', alpha=0.5)\n",
        "\n",
        "# 3. Boxplot по горизонтам (каждые 4 горизонта)\n",
        "boxplot_data = [submission[f'p{i}'].values for i in [1, 5, 10, 15, 20]]\n",
        "axes[1, 0].boxplot(boxplot_data, labels=['1д', '5д', '10д', '15д', '20д'])\n",
        "axes[1, 0].set_title('Распределение по ключевым горизонтам', fontsize=14, fontweight='bold')\n",
        "axes[1, 0].set_ylabel('Вероятность')\n",
        "axes[1, 0].grid(alpha=0.3)\n",
        "\n",
        "# 4. Средние вероятности по тикерам\n",
        "ticker_means = submission.groupby('ticker')[prob_cols].mean().mean(axis=1).sort_values()\n",
        "axes[1, 1].barh(ticker_means.index, ticker_means.values)\n",
        "axes[1, 1].set_title('Средняя вероятность по тикерам', fontsize=14, fontweight='bold')\n",
        "axes[1, 1].set_xlabel('Средняя вероятность')\n",
        "axes[1, 1].axvline(0.5, color='gray', linestyle='--', alpha=0.5)\n",
        "axes[1, 1].grid(alpha=0.3)\n",
        "\n",
        "plt.tight_layout()\n",
        "plt.show()\n",
        "\n",
        "print(\"✅ Визуализация готова!\")\n"
      ]
    },
    {
      "cell_type": "markdown",
      "metadata": {},
      "source": [
        "## 9. 📥 Скачивание результатов\n"
      ]
    },
    {
      "cell_type": "code",
      "execution_count": null,
      "metadata": {},
      "outputs": [],
      "source": [
        "from google.colab import files\n",
        "\n",
        "# Скачиваем submission\n",
        "if os.path.exists('submission.csv'):\n",
        "    files.download('submission.csv')\n",
        "    print(\"✅ submission.csv скачан!\")\n",
        "else:\n",
        "    print(\"❌ Файл не найден!\")\n",
        "\n",
        "# Опционально: сохранить в Google Drive\n",
        "save_to_drive = input(\"\\n💾 Сохранить submission.csv в Google Drive? (y/n): \")\n",
        "if save_to_drive.lower() == 'y':\n",
        "    output_path = '/content/drive/MyDrive/submission_forecast.csv'\n",
        "    shutil.copy('submission.csv', output_path)\n",
        "    print(f\"✅ Сохранено в: {output_path}\")\n",
        "\n",
        "print(\"\\n🎉 Готово! Теперь можете отправить submission.csv на лидерборд\")\n"
      ]
    },
    {
      "cell_type": "markdown",
      "metadata": {},
      "source": [
        "---\n",
        "\n",
        "## ✅ Готово!\n",
        "\n",
        "**Результаты:**\n",
        "- ✅ Модель обучена на ваших данных\n",
        "- ✅ Предсказания созданы\n",
        "- ✅ Метрики проанализированы\n",
        "- ✅ Визуализация построена\n",
        "- ✅ submission.csv готов для отправки\n",
        "\n",
        "**Следующие шаги:**\n",
        "1. Отправьте `submission.csv` на лидерборд\n",
        "2. Обновите метрики в презентации реальными значениями\n",
        "3. Сравните с предыдущими результатами\n",
        "\n",
        "---\n",
        "\n",
        "**Команда Pulsetech** 🚀\n"
      ]
    }
  ],
  "metadata": {
    "language_info": {
      "name": "python"
    }
  },
  "nbformat": 4,
  "nbformat_minor": 2
}
